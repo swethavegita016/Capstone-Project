{
 "cells": [
  {
   "cell_type": "markdown",
   "id": "368b0283",
   "metadata": {},
   "source": [
    "# Capstone Project"
   ]
  },
  {
   "cell_type": "markdown",
   "id": "902bf23a",
   "metadata": {},
   "source": [
    "Human resources (HR) is the division of an organization that is responsible for finding, screening, recruiting, and training job applicants, and administering employee-benefit programs.\n",
    "\n",
    "This management is the strategic approach to the efficient management of people in any organization in a way that can help their business gain a competitive advantage. It is designed to improve employee performance in service of an employer's strategic objectives."
   ]
  },
  {
   "cell_type": "markdown",
   "id": "75985fab",
   "metadata": {},
   "source": [
    "# how salary is varying with respect to other considerable factors."
   ]
  },
  {
   "cell_type": "markdown",
   "id": "17c33c5f",
   "metadata": {},
   "source": [
    "Feature Description\n",
    "\n",
    "Gender - talks of the gender - Male or female\n",
    "\n",
    "\n",
    "Business - if the person has a business or no\n",
    "\n",
    "\n",
    "Age - age of the person\n",
    "\n",
    "\n",
    "Salary - CTC of the employee\n",
    "\n",
    "\n",
    "Dependants - number of people dependant on the person\n",
    "\n",
    "\n",
    "Months - duration of the person employed with the company\n",
    "\n",
    "\n",
    "Calls - if the person has authority to make calls or not\n",
    "\n",
    "\n",
    "Type - salary settlement type\n",
    "\n",
    "\n",
    "Billing - Subscribed to billing plans or no\n",
    "\n",
    "\n",
    "Unit sales - unit sale made by the person\n",
    "\n",
    "\n",
    "Total sales - total sales made by the person\n",
    "\n",
    "\n",
    "Rating - If he has been given a rating by a superior or no\n",
    "\n",
    "\n",
    "Bonus - amount received by a person as bonus for sales\n",
    "\n",
    "\n",
    "Base pay - Base pay of the employee\n",
    "\n",
    "\n",
    "Unit price - The Unit price of a sale\n",
    "\n",
    "\n",
    "Volume - volume allotted to a person\n",
    "\n",
    "\n",
    "Opening balance - The opening balance of an employee\n",
    "\n",
    "\n",
    "Low - lowest balance allotted to a person.\n",
    "\n",
    "\n",
    "Closing Balance- The closing balance of an employee\n",
    "\n",
    "\n",
    "Education- Educational background of an employee"
   ]
  },
  {
   "cell_type": "code",
   "execution_count": 396,
   "id": "45394431",
   "metadata": {},
   "outputs": [
    {
     "data": {
      "text/html": [
       "<div>\n",
       "<style scoped>\n",
       "    .dataframe tbody tr th:only-of-type {\n",
       "        vertical-align: middle;\n",
       "    }\n",
       "\n",
       "    .dataframe tbody tr th {\n",
       "        vertical-align: top;\n",
       "    }\n",
       "\n",
       "    .dataframe thead th {\n",
       "        text-align: right;\n",
       "    }\n",
       "</style>\n",
       "<table border=\"1\" class=\"dataframe\">\n",
       "  <thead>\n",
       "    <tr style=\"text-align: right;\">\n",
       "      <th></th>\n",
       "      <th>Gender</th>\n",
       "      <th>Business</th>\n",
       "      <th>Dependancies</th>\n",
       "      <th>Calls</th>\n",
       "      <th>Type</th>\n",
       "      <th>Billing</th>\n",
       "      <th>Rating</th>\n",
       "      <th>Age</th>\n",
       "      <th>Salary</th>\n",
       "      <th>Base_pay</th>\n",
       "      <th>Bonus</th>\n",
       "      <th>Unit_Price</th>\n",
       "      <th>Volume</th>\n",
       "      <th>openingbalance</th>\n",
       "      <th>closingbalance</th>\n",
       "      <th>low</th>\n",
       "      <th>Unit_Sales</th>\n",
       "      <th>Total_Sales</th>\n",
       "      <th>Months</th>\n",
       "      <th>Education</th>\n",
       "    </tr>\n",
       "  </thead>\n",
       "  <tbody>\n",
       "    <tr>\n",
       "      <th>0</th>\n",
       "      <td>Female</td>\n",
       "      <td>0</td>\n",
       "      <td>No</td>\n",
       "      <td>Yes</td>\n",
       "      <td>Month-to-month</td>\n",
       "      <td>No</td>\n",
       "      <td>Yes</td>\n",
       "      <td>18</td>\n",
       "      <td>5089.00</td>\n",
       "      <td>2035.600</td>\n",
       "      <td>254.4500</td>\n",
       "      <td>3.770000</td>\n",
       "      <td>21226600</td>\n",
       "      <td>3.75</td>\n",
       "      <td>3.760000</td>\n",
       "      <td>3.650000</td>\n",
       "      <td>18.25</td>\n",
       "      <td>18.8</td>\n",
       "      <td>0</td>\n",
       "      <td>High School or less</td>\n",
       "    </tr>\n",
       "    <tr>\n",
       "      <th>1</th>\n",
       "      <td>Female</td>\n",
       "      <td>0</td>\n",
       "      <td>No</td>\n",
       "      <td>Yes</td>\n",
       "      <td>Month-to-month</td>\n",
       "      <td>No</td>\n",
       "      <td>Yes</td>\n",
       "      <td>19</td>\n",
       "      <td>5698.12</td>\n",
       "      <td>2279.248</td>\n",
       "      <td>284.9060</td>\n",
       "      <td>3.740000</td>\n",
       "      <td>10462800</td>\n",
       "      <td>3.85</td>\n",
       "      <td>3.680000</td>\n",
       "      <td>3.650000</td>\n",
       "      <td>18.40</td>\n",
       "      <td>18.85</td>\n",
       "      <td>0</td>\n",
       "      <td>High School or less</td>\n",
       "    </tr>\n",
       "    <tr>\n",
       "      <th>2</th>\n",
       "      <td>Male</td>\n",
       "      <td>0</td>\n",
       "      <td>No</td>\n",
       "      <td>Yes</td>\n",
       "      <td>Month-to-month</td>\n",
       "      <td>Yes</td>\n",
       "      <td>No</td>\n",
       "      <td>22</td>\n",
       "      <td>5896.65</td>\n",
       "      <td>2358.660</td>\n",
       "      <td>294.8325</td>\n",
       "      <td>3.890000</td>\n",
       "      <td>18761000</td>\n",
       "      <td>4.23</td>\n",
       "      <td>4.290000</td>\n",
       "      <td>3.720000</td>\n",
       "      <td>18.70</td>\n",
       "      <td>18.9</td>\n",
       "      <td>0</td>\n",
       "      <td>High School or less</td>\n",
       "    </tr>\n",
       "    <tr>\n",
       "      <th>3</th>\n",
       "      <td>Female</td>\n",
       "      <td>1</td>\n",
       "      <td>No</td>\n",
       "      <td>Yes</td>\n",
       "      <td>Month-to-month</td>\n",
       "      <td>Yes</td>\n",
       "      <td>Yes</td>\n",
       "      <td>21</td>\n",
       "      <td>6125.12</td>\n",
       "      <td>2450.048</td>\n",
       "      <td>306.2560</td>\n",
       "      <td>4.350000</td>\n",
       "      <td>66130600</td>\n",
       "      <td>4.26</td>\n",
       "      <td>4.310000</td>\n",
       "      <td>3.830000</td>\n",
       "      <td>18.75</td>\n",
       "      <td>19</td>\n",
       "      <td>0</td>\n",
       "      <td>High School or less</td>\n",
       "    </tr>\n",
       "    <tr>\n",
       "      <th>4</th>\n",
       "      <td>Male</td>\n",
       "      <td>0</td>\n",
       "      <td>No</td>\n",
       "      <td>Yes</td>\n",
       "      <td>Month-to-month</td>\n",
       "      <td>Yes</td>\n",
       "      <td>Yes</td>\n",
       "      <td>23</td>\n",
       "      <td>6245.00</td>\n",
       "      <td>2498.000</td>\n",
       "      <td>312.2500</td>\n",
       "      <td>4.340000</td>\n",
       "      <td>26868200</td>\n",
       "      <td>4.79</td>\n",
       "      <td>4.410000</td>\n",
       "      <td>4.080000</td>\n",
       "      <td>18.80</td>\n",
       "      <td>19.05</td>\n",
       "      <td>1</td>\n",
       "      <td>High School or less</td>\n",
       "    </tr>\n",
       "    <tr>\n",
       "      <th>...</th>\n",
       "      <td>...</td>\n",
       "      <td>...</td>\n",
       "      <td>...</td>\n",
       "      <td>...</td>\n",
       "      <td>...</td>\n",
       "      <td>...</td>\n",
       "      <td>...</td>\n",
       "      <td>...</td>\n",
       "      <td>...</td>\n",
       "      <td>...</td>\n",
       "      <td>...</td>\n",
       "      <td>...</td>\n",
       "      <td>...</td>\n",
       "      <td>...</td>\n",
       "      <td>...</td>\n",
       "      <td>...</td>\n",
       "      <td>...</td>\n",
       "      <td>...</td>\n",
       "      <td>...</td>\n",
       "      <td>...</td>\n",
       "    </tr>\n",
       "    <tr>\n",
       "      <th>4995</th>\n",
       "      <td>Female</td>\n",
       "      <td>0</td>\n",
       "      <td>No</td>\n",
       "      <td>Yes</td>\n",
       "      <td>Month-to-month</td>\n",
       "      <td>No</td>\n",
       "      <td>No</td>\n",
       "      <td>72</td>\n",
       "      <td>180696.80</td>\n",
       "      <td>72278.720</td>\n",
       "      <td>9034.8400</td>\n",
       "      <td>629.511067</td>\n",
       "      <td>3927000</td>\n",
       "      <td>NaN</td>\n",
       "      <td>293.838840</td>\n",
       "      <td>310.955001</td>\n",
       "      <td>117.80</td>\n",
       "      <td></td>\n",
       "      <td>72</td>\n",
       "      <td>PG</td>\n",
       "    </tr>\n",
       "    <tr>\n",
       "      <th>4996</th>\n",
       "      <td>Male</td>\n",
       "      <td>0</td>\n",
       "      <td>No</td>\n",
       "      <td>Yes</td>\n",
       "      <td>Month-to-month</td>\n",
       "      <td>Yes</td>\n",
       "      <td>No</td>\n",
       "      <td>73</td>\n",
       "      <td>185685.90</td>\n",
       "      <td>74274.360</td>\n",
       "      <td>9284.2950</td>\n",
       "      <td>627.841071</td>\n",
       "      <td>6031900</td>\n",
       "      <td>NaN</td>\n",
       "      <td>301.311314</td>\n",
       "      <td>309.610028</td>\n",
       "      <td>118.60</td>\n",
       "      <td></td>\n",
       "      <td>72</td>\n",
       "      <td>PG</td>\n",
       "    </tr>\n",
       "    <tr>\n",
       "      <th>4997</th>\n",
       "      <td>Male</td>\n",
       "      <td>0</td>\n",
       "      <td>No</td>\n",
       "      <td>Yes</td>\n",
       "      <td>Month-to-month</td>\n",
       "      <td>Yes</td>\n",
       "      <td>No</td>\n",
       "      <td>74</td>\n",
       "      <td>192636.80</td>\n",
       "      <td>77054.720</td>\n",
       "      <td>9631.8400</td>\n",
       "      <td>625.860033</td>\n",
       "      <td>7949400</td>\n",
       "      <td>NaN</td>\n",
       "      <td>306.040009</td>\n",
       "      <td>303.483494</td>\n",
       "      <td>118.60</td>\n",
       "      <td></td>\n",
       "      <td>72</td>\n",
       "      <td>PG</td>\n",
       "    </tr>\n",
       "    <tr>\n",
       "      <th>4998</th>\n",
       "      <td>Male</td>\n",
       "      <td>1</td>\n",
       "      <td>No</td>\n",
       "      <td>Yes</td>\n",
       "      <td>Month-to-month</td>\n",
       "      <td>Yes</td>\n",
       "      <td>Yes</td>\n",
       "      <td>74</td>\n",
       "      <td>195970.70</td>\n",
       "      <td>78388.280</td>\n",
       "      <td>9798.5350</td>\n",
       "      <td>629.510005</td>\n",
       "      <td>3908400</td>\n",
       "      <td>NaN</td>\n",
       "      <td>308.579987</td>\n",
       "      <td>312.432438</td>\n",
       "      <td>118.65</td>\n",
       "      <td></td>\n",
       "      <td>72</td>\n",
       "      <td>PG</td>\n",
       "    </tr>\n",
       "    <tr>\n",
       "      <th>4999</th>\n",
       "      <td>Male</td>\n",
       "      <td>0</td>\n",
       "      <td>Yes</td>\n",
       "      <td>Yes</td>\n",
       "      <td>Two year</td>\n",
       "      <td>Yes</td>\n",
       "      <td>No</td>\n",
       "      <td>88</td>\n",
       "      <td>199970.74</td>\n",
       "      <td>79988.296</td>\n",
       "      <td>9998.5370</td>\n",
       "      <td>627.839984</td>\n",
       "      <td>6003300</td>\n",
       "      <td>NaN</td>\n",
       "      <td>312.307316</td>\n",
       "      <td>311.081089</td>\n",
       "      <td>118.75</td>\n",
       "      <td></td>\n",
       "      <td>72</td>\n",
       "      <td>PG</td>\n",
       "    </tr>\n",
       "  </tbody>\n",
       "</table>\n",
       "<p>5000 rows × 20 columns</p>\n",
       "</div>"
      ],
      "text/plain": [
       "      Gender  Business Dependancies Calls            Type Billing Rating  Age  \\\n",
       "0     Female         0           No   Yes  Month-to-month      No    Yes   18   \n",
       "1     Female         0           No   Yes  Month-to-month      No    Yes   19   \n",
       "2       Male         0           No   Yes  Month-to-month     Yes     No   22   \n",
       "3     Female         1           No   Yes  Month-to-month     Yes    Yes   21   \n",
       "4       Male         0           No   Yes  Month-to-month     Yes    Yes   23   \n",
       "...      ...       ...          ...   ...             ...     ...    ...  ...   \n",
       "4995  Female         0           No   Yes  Month-to-month      No     No   72   \n",
       "4996    Male         0           No   Yes  Month-to-month     Yes     No   73   \n",
       "4997    Male         0           No   Yes  Month-to-month     Yes     No   74   \n",
       "4998    Male         1           No   Yes  Month-to-month     Yes    Yes   74   \n",
       "4999    Male         0          Yes   Yes        Two year     Yes     No   88   \n",
       "\n",
       "         Salary   Base_pay      Bonus  Unit_Price    Volume  openingbalance  \\\n",
       "0       5089.00   2035.600   254.4500    3.770000  21226600            3.75   \n",
       "1       5698.12   2279.248   284.9060    3.740000  10462800            3.85   \n",
       "2       5896.65   2358.660   294.8325    3.890000  18761000            4.23   \n",
       "3       6125.12   2450.048   306.2560    4.350000  66130600            4.26   \n",
       "4       6245.00   2498.000   312.2500    4.340000  26868200            4.79   \n",
       "...         ...        ...        ...         ...       ...             ...   \n",
       "4995  180696.80  72278.720  9034.8400  629.511067   3927000             NaN   \n",
       "4996  185685.90  74274.360  9284.2950  627.841071   6031900             NaN   \n",
       "4997  192636.80  77054.720  9631.8400  625.860033   7949400             NaN   \n",
       "4998  195970.70  78388.280  9798.5350  629.510005   3908400             NaN   \n",
       "4999  199970.74  79988.296  9998.5370  627.839984   6003300             NaN   \n",
       "\n",
       "      closingbalance         low  Unit_Sales Total_Sales  Months  \\\n",
       "0           3.760000    3.650000       18.25        18.8       0   \n",
       "1           3.680000    3.650000       18.40       18.85       0   \n",
       "2           4.290000    3.720000       18.70        18.9       0   \n",
       "3           4.310000    3.830000       18.75          19       0   \n",
       "4           4.410000    4.080000       18.80       19.05       1   \n",
       "...              ...         ...         ...         ...     ...   \n",
       "4995      293.838840  310.955001      117.80                  72   \n",
       "4996      301.311314  309.610028      118.60                  72   \n",
       "4997      306.040009  303.483494      118.60                  72   \n",
       "4998      308.579987  312.432438      118.65                  72   \n",
       "4999      312.307316  311.081089      118.75                  72   \n",
       "\n",
       "                Education  \n",
       "0     High School or less  \n",
       "1     High School or less  \n",
       "2     High School or less  \n",
       "3     High School or less  \n",
       "4     High School or less  \n",
       "...                   ...  \n",
       "4995                   PG  \n",
       "4996                   PG  \n",
       "4997                   PG  \n",
       "4998                   PG  \n",
       "4999                   PG  \n",
       "\n",
       "[5000 rows x 20 columns]"
      ]
     },
     "execution_count": 396,
     "metadata": {},
     "output_type": "execute_result"
    }
   ],
   "source": [
    "## Importing the required libraries\n",
    "\n",
    "import pandas as pd\n",
    "import numpy as np\n",
    "import matplotlib.pyplot as plt\n",
    "import seaborn as sns\n",
    "import warnings\n",
    "warnings.filterwarnings('ignore')\n",
    "\n",
    "## Importing the dataset to read as csv file\n",
    "\n",
    "df = pd.read_csv('New_data_Set.csv')\n",
    "df"
   ]
  },
  {
   "cell_type": "markdown",
   "id": "d6e89966",
   "metadata": {},
   "source": [
    "This Data belongs to the HR(Human Resources) and this data set contains the information of the employees of the human resources.The HR (Human Resources) department is a group who is responsible for managing the employee life cycle (i.e., recruiting, hiring, onboarding, training, and firing employees) and administering employee benefits."
   ]
  },
  {
   "cell_type": "code",
   "execution_count": 397,
   "id": "2431916d",
   "metadata": {},
   "outputs": [
    {
     "data": {
      "text/html": [
       "<div>\n",
       "<style scoped>\n",
       "    .dataframe tbody tr th:only-of-type {\n",
       "        vertical-align: middle;\n",
       "    }\n",
       "\n",
       "    .dataframe tbody tr th {\n",
       "        vertical-align: top;\n",
       "    }\n",
       "\n",
       "    .dataframe thead th {\n",
       "        text-align: right;\n",
       "    }\n",
       "</style>\n",
       "<table border=\"1\" class=\"dataframe\">\n",
       "  <thead>\n",
       "    <tr style=\"text-align: right;\">\n",
       "      <th></th>\n",
       "      <th>Gender</th>\n",
       "      <th>Business</th>\n",
       "      <th>Dependancies</th>\n",
       "      <th>Calls</th>\n",
       "      <th>Type</th>\n",
       "      <th>Billing</th>\n",
       "      <th>Rating</th>\n",
       "      <th>Age</th>\n",
       "      <th>Salary</th>\n",
       "      <th>Base_pay</th>\n",
       "      <th>Bonus</th>\n",
       "      <th>Unit_Price</th>\n",
       "      <th>Volume</th>\n",
       "      <th>openingbalance</th>\n",
       "      <th>closingbalance</th>\n",
       "      <th>low</th>\n",
       "      <th>Unit_Sales</th>\n",
       "      <th>Total_Sales</th>\n",
       "      <th>Months</th>\n",
       "      <th>Education</th>\n",
       "    </tr>\n",
       "  </thead>\n",
       "  <tbody>\n",
       "    <tr>\n",
       "      <th>0</th>\n",
       "      <td>Female</td>\n",
       "      <td>0</td>\n",
       "      <td>No</td>\n",
       "      <td>Yes</td>\n",
       "      <td>Month-to-month</td>\n",
       "      <td>No</td>\n",
       "      <td>Yes</td>\n",
       "      <td>18</td>\n",
       "      <td>5089.00</td>\n",
       "      <td>2035.600</td>\n",
       "      <td>254.4500</td>\n",
       "      <td>3.77</td>\n",
       "      <td>21226600</td>\n",
       "      <td>3.75</td>\n",
       "      <td>3.76</td>\n",
       "      <td>3.65</td>\n",
       "      <td>18.25</td>\n",
       "      <td>18.8</td>\n",
       "      <td>0</td>\n",
       "      <td>High School or less</td>\n",
       "    </tr>\n",
       "    <tr>\n",
       "      <th>1</th>\n",
       "      <td>Female</td>\n",
       "      <td>0</td>\n",
       "      <td>No</td>\n",
       "      <td>Yes</td>\n",
       "      <td>Month-to-month</td>\n",
       "      <td>No</td>\n",
       "      <td>Yes</td>\n",
       "      <td>19</td>\n",
       "      <td>5698.12</td>\n",
       "      <td>2279.248</td>\n",
       "      <td>284.9060</td>\n",
       "      <td>3.74</td>\n",
       "      <td>10462800</td>\n",
       "      <td>3.85</td>\n",
       "      <td>3.68</td>\n",
       "      <td>3.65</td>\n",
       "      <td>18.40</td>\n",
       "      <td>18.85</td>\n",
       "      <td>0</td>\n",
       "      <td>High School or less</td>\n",
       "    </tr>\n",
       "    <tr>\n",
       "      <th>2</th>\n",
       "      <td>Male</td>\n",
       "      <td>0</td>\n",
       "      <td>No</td>\n",
       "      <td>Yes</td>\n",
       "      <td>Month-to-month</td>\n",
       "      <td>Yes</td>\n",
       "      <td>No</td>\n",
       "      <td>22</td>\n",
       "      <td>5896.65</td>\n",
       "      <td>2358.660</td>\n",
       "      <td>294.8325</td>\n",
       "      <td>3.89</td>\n",
       "      <td>18761000</td>\n",
       "      <td>4.23</td>\n",
       "      <td>4.29</td>\n",
       "      <td>3.72</td>\n",
       "      <td>18.70</td>\n",
       "      <td>18.9</td>\n",
       "      <td>0</td>\n",
       "      <td>High School or less</td>\n",
       "    </tr>\n",
       "    <tr>\n",
       "      <th>3</th>\n",
       "      <td>Female</td>\n",
       "      <td>1</td>\n",
       "      <td>No</td>\n",
       "      <td>Yes</td>\n",
       "      <td>Month-to-month</td>\n",
       "      <td>Yes</td>\n",
       "      <td>Yes</td>\n",
       "      <td>21</td>\n",
       "      <td>6125.12</td>\n",
       "      <td>2450.048</td>\n",
       "      <td>306.2560</td>\n",
       "      <td>4.35</td>\n",
       "      <td>66130600</td>\n",
       "      <td>4.26</td>\n",
       "      <td>4.31</td>\n",
       "      <td>3.83</td>\n",
       "      <td>18.75</td>\n",
       "      <td>19</td>\n",
       "      <td>0</td>\n",
       "      <td>High School or less</td>\n",
       "    </tr>\n",
       "    <tr>\n",
       "      <th>4</th>\n",
       "      <td>Male</td>\n",
       "      <td>0</td>\n",
       "      <td>No</td>\n",
       "      <td>Yes</td>\n",
       "      <td>Month-to-month</td>\n",
       "      <td>Yes</td>\n",
       "      <td>Yes</td>\n",
       "      <td>23</td>\n",
       "      <td>6245.00</td>\n",
       "      <td>2498.000</td>\n",
       "      <td>312.2500</td>\n",
       "      <td>4.34</td>\n",
       "      <td>26868200</td>\n",
       "      <td>4.79</td>\n",
       "      <td>4.41</td>\n",
       "      <td>4.08</td>\n",
       "      <td>18.80</td>\n",
       "      <td>19.05</td>\n",
       "      <td>1</td>\n",
       "      <td>High School or less</td>\n",
       "    </tr>\n",
       "  </tbody>\n",
       "</table>\n",
       "</div>"
      ],
      "text/plain": [
       "   Gender  Business Dependancies Calls            Type Billing Rating  Age  \\\n",
       "0  Female         0           No   Yes  Month-to-month      No    Yes   18   \n",
       "1  Female         0           No   Yes  Month-to-month      No    Yes   19   \n",
       "2    Male         0           No   Yes  Month-to-month     Yes     No   22   \n",
       "3  Female         1           No   Yes  Month-to-month     Yes    Yes   21   \n",
       "4    Male         0           No   Yes  Month-to-month     Yes    Yes   23   \n",
       "\n",
       "    Salary  Base_pay     Bonus  Unit_Price    Volume  openingbalance  \\\n",
       "0  5089.00  2035.600  254.4500        3.77  21226600            3.75   \n",
       "1  5698.12  2279.248  284.9060        3.74  10462800            3.85   \n",
       "2  5896.65  2358.660  294.8325        3.89  18761000            4.23   \n",
       "3  6125.12  2450.048  306.2560        4.35  66130600            4.26   \n",
       "4  6245.00  2498.000  312.2500        4.34  26868200            4.79   \n",
       "\n",
       "   closingbalance   low  Unit_Sales Total_Sales  Months            Education  \n",
       "0            3.76  3.65       18.25        18.8       0  High School or less  \n",
       "1            3.68  3.65       18.40       18.85       0  High School or less  \n",
       "2            4.29  3.72       18.70        18.9       0  High School or less  \n",
       "3            4.31  3.83       18.75          19       0  High School or less  \n",
       "4            4.41  4.08       18.80       19.05       1  High School or less  "
      ]
     },
     "execution_count": 397,
     "metadata": {},
     "output_type": "execute_result"
    }
   ],
   "source": [
    "## Checking the first five rows by using the head() function.\n",
    " \n",
    "df.head()"
   ]
  },
  {
   "cell_type": "code",
   "execution_count": 398,
   "id": "1a9a2f2a",
   "metadata": {},
   "outputs": [
    {
     "data": {
      "text/html": [
       "<div>\n",
       "<style scoped>\n",
       "    .dataframe tbody tr th:only-of-type {\n",
       "        vertical-align: middle;\n",
       "    }\n",
       "\n",
       "    .dataframe tbody tr th {\n",
       "        vertical-align: top;\n",
       "    }\n",
       "\n",
       "    .dataframe thead th {\n",
       "        text-align: right;\n",
       "    }\n",
       "</style>\n",
       "<table border=\"1\" class=\"dataframe\">\n",
       "  <thead>\n",
       "    <tr style=\"text-align: right;\">\n",
       "      <th></th>\n",
       "      <th>Gender</th>\n",
       "      <th>Business</th>\n",
       "      <th>Dependancies</th>\n",
       "      <th>Calls</th>\n",
       "      <th>Type</th>\n",
       "      <th>Billing</th>\n",
       "      <th>Rating</th>\n",
       "      <th>Age</th>\n",
       "      <th>Salary</th>\n",
       "      <th>Base_pay</th>\n",
       "      <th>Bonus</th>\n",
       "      <th>Unit_Price</th>\n",
       "      <th>Volume</th>\n",
       "      <th>openingbalance</th>\n",
       "      <th>closingbalance</th>\n",
       "      <th>low</th>\n",
       "      <th>Unit_Sales</th>\n",
       "      <th>Total_Sales</th>\n",
       "      <th>Months</th>\n",
       "      <th>Education</th>\n",
       "    </tr>\n",
       "  </thead>\n",
       "  <tbody>\n",
       "    <tr>\n",
       "      <th>4995</th>\n",
       "      <td>Female</td>\n",
       "      <td>0</td>\n",
       "      <td>No</td>\n",
       "      <td>Yes</td>\n",
       "      <td>Month-to-month</td>\n",
       "      <td>No</td>\n",
       "      <td>No</td>\n",
       "      <td>72</td>\n",
       "      <td>180696.80</td>\n",
       "      <td>72278.720</td>\n",
       "      <td>9034.840</td>\n",
       "      <td>629.511067</td>\n",
       "      <td>3927000</td>\n",
       "      <td>NaN</td>\n",
       "      <td>293.838840</td>\n",
       "      <td>310.955001</td>\n",
       "      <td>117.80</td>\n",
       "      <td></td>\n",
       "      <td>72</td>\n",
       "      <td>PG</td>\n",
       "    </tr>\n",
       "    <tr>\n",
       "      <th>4996</th>\n",
       "      <td>Male</td>\n",
       "      <td>0</td>\n",
       "      <td>No</td>\n",
       "      <td>Yes</td>\n",
       "      <td>Month-to-month</td>\n",
       "      <td>Yes</td>\n",
       "      <td>No</td>\n",
       "      <td>73</td>\n",
       "      <td>185685.90</td>\n",
       "      <td>74274.360</td>\n",
       "      <td>9284.295</td>\n",
       "      <td>627.841071</td>\n",
       "      <td>6031900</td>\n",
       "      <td>NaN</td>\n",
       "      <td>301.311314</td>\n",
       "      <td>309.610028</td>\n",
       "      <td>118.60</td>\n",
       "      <td></td>\n",
       "      <td>72</td>\n",
       "      <td>PG</td>\n",
       "    </tr>\n",
       "    <tr>\n",
       "      <th>4997</th>\n",
       "      <td>Male</td>\n",
       "      <td>0</td>\n",
       "      <td>No</td>\n",
       "      <td>Yes</td>\n",
       "      <td>Month-to-month</td>\n",
       "      <td>Yes</td>\n",
       "      <td>No</td>\n",
       "      <td>74</td>\n",
       "      <td>192636.80</td>\n",
       "      <td>77054.720</td>\n",
       "      <td>9631.840</td>\n",
       "      <td>625.860033</td>\n",
       "      <td>7949400</td>\n",
       "      <td>NaN</td>\n",
       "      <td>306.040009</td>\n",
       "      <td>303.483494</td>\n",
       "      <td>118.60</td>\n",
       "      <td></td>\n",
       "      <td>72</td>\n",
       "      <td>PG</td>\n",
       "    </tr>\n",
       "    <tr>\n",
       "      <th>4998</th>\n",
       "      <td>Male</td>\n",
       "      <td>1</td>\n",
       "      <td>No</td>\n",
       "      <td>Yes</td>\n",
       "      <td>Month-to-month</td>\n",
       "      <td>Yes</td>\n",
       "      <td>Yes</td>\n",
       "      <td>74</td>\n",
       "      <td>195970.70</td>\n",
       "      <td>78388.280</td>\n",
       "      <td>9798.535</td>\n",
       "      <td>629.510005</td>\n",
       "      <td>3908400</td>\n",
       "      <td>NaN</td>\n",
       "      <td>308.579987</td>\n",
       "      <td>312.432438</td>\n",
       "      <td>118.65</td>\n",
       "      <td></td>\n",
       "      <td>72</td>\n",
       "      <td>PG</td>\n",
       "    </tr>\n",
       "    <tr>\n",
       "      <th>4999</th>\n",
       "      <td>Male</td>\n",
       "      <td>0</td>\n",
       "      <td>Yes</td>\n",
       "      <td>Yes</td>\n",
       "      <td>Two year</td>\n",
       "      <td>Yes</td>\n",
       "      <td>No</td>\n",
       "      <td>88</td>\n",
       "      <td>199970.74</td>\n",
       "      <td>79988.296</td>\n",
       "      <td>9998.537</td>\n",
       "      <td>627.839984</td>\n",
       "      <td>6003300</td>\n",
       "      <td>NaN</td>\n",
       "      <td>312.307316</td>\n",
       "      <td>311.081089</td>\n",
       "      <td>118.75</td>\n",
       "      <td></td>\n",
       "      <td>72</td>\n",
       "      <td>PG</td>\n",
       "    </tr>\n",
       "  </tbody>\n",
       "</table>\n",
       "</div>"
      ],
      "text/plain": [
       "      Gender  Business Dependancies Calls            Type Billing Rating  Age  \\\n",
       "4995  Female         0           No   Yes  Month-to-month      No     No   72   \n",
       "4996    Male         0           No   Yes  Month-to-month     Yes     No   73   \n",
       "4997    Male         0           No   Yes  Month-to-month     Yes     No   74   \n",
       "4998    Male         1           No   Yes  Month-to-month     Yes    Yes   74   \n",
       "4999    Male         0          Yes   Yes        Two year     Yes     No   88   \n",
       "\n",
       "         Salary   Base_pay     Bonus  Unit_Price   Volume  openingbalance  \\\n",
       "4995  180696.80  72278.720  9034.840  629.511067  3927000             NaN   \n",
       "4996  185685.90  74274.360  9284.295  627.841071  6031900             NaN   \n",
       "4997  192636.80  77054.720  9631.840  625.860033  7949400             NaN   \n",
       "4998  195970.70  78388.280  9798.535  629.510005  3908400             NaN   \n",
       "4999  199970.74  79988.296  9998.537  627.839984  6003300             NaN   \n",
       "\n",
       "      closingbalance         low  Unit_Sales Total_Sales  Months Education  \n",
       "4995      293.838840  310.955001      117.80                  72        PG  \n",
       "4996      301.311314  309.610028      118.60                  72        PG  \n",
       "4997      306.040009  303.483494      118.60                  72        PG  \n",
       "4998      308.579987  312.432438      118.65                  72        PG  \n",
       "4999      312.307316  311.081089      118.75                  72        PG  "
      ]
     },
     "execution_count": 398,
     "metadata": {},
     "output_type": "execute_result"
    }
   ],
   "source": [
    "## Checking the last five rows by using the tail() function.\n",
    "\n",
    "df.tail()"
   ]
  },
  {
   "cell_type": "code",
   "execution_count": 399,
   "id": "7824f18f",
   "metadata": {},
   "outputs": [
    {
     "data": {
      "text/plain": [
       "(5000, 20)"
      ]
     },
     "execution_count": 399,
     "metadata": {},
     "output_type": "execute_result"
    }
   ],
   "source": [
    "### checking the dimension of the dataset by using the 'shape'\n",
    "\n",
    "df.shape"
   ]
  },
  {
   "cell_type": "code",
   "execution_count": 400,
   "id": "078c0ef3",
   "metadata": {},
   "outputs": [
    {
     "name": "stdout",
     "output_type": "stream",
     "text": [
      "<class 'pandas.core.frame.DataFrame'>\n",
      "RangeIndex: 5000 entries, 0 to 4999\n",
      "Data columns (total 20 columns):\n",
      " #   Column          Non-Null Count  Dtype  \n",
      "---  ------          --------------  -----  \n",
      " 0   Gender          5000 non-null   object \n",
      " 1   Business        5000 non-null   int64  \n",
      " 2   Dependancies    5000 non-null   object \n",
      " 3   Calls           5000 non-null   object \n",
      " 4   Type            5000 non-null   object \n",
      " 5   Billing         5000 non-null   object \n",
      " 6   Rating          5000 non-null   object \n",
      " 7   Age             5000 non-null   int64  \n",
      " 8   Salary          5000 non-null   float64\n",
      " 9   Base_pay        4977 non-null   float64\n",
      " 10  Bonus           5000 non-null   float64\n",
      " 11  Unit_Price      5000 non-null   float64\n",
      " 12  Volume          5000 non-null   int64  \n",
      " 13  openingbalance  3524 non-null   float64\n",
      " 14  closingbalance  5000 non-null   float64\n",
      " 15  low             5000 non-null   float64\n",
      " 16  Unit_Sales      5000 non-null   float64\n",
      " 17  Total_Sales     4992 non-null   object \n",
      " 18  Months          5000 non-null   int64  \n",
      " 19  Education       5000 non-null   object \n",
      "dtypes: float64(8), int64(4), object(8)\n",
      "memory usage: 781.4+ KB\n"
     ]
    }
   ],
   "source": [
    "### info() function is used to get a concise summary of the dataframe.\n",
    "\n",
    "df.info()"
   ]
  },
  {
   "cell_type": "markdown",
   "id": "b12ca8fb",
   "metadata": {},
   "source": [
    "We can see here the missing values and also data types of each column.\n",
    "\n",
    "Base_pay, openingbalance and total sales have null values.\n",
    "\n",
    "Total_sales columns is in object format"
   ]
  },
  {
   "cell_type": "code",
   "execution_count": 401,
   "id": "2555013d",
   "metadata": {},
   "outputs": [
    {
     "data": {
      "text/html": [
       "<div>\n",
       "<style scoped>\n",
       "    .dataframe tbody tr th:only-of-type {\n",
       "        vertical-align: middle;\n",
       "    }\n",
       "\n",
       "    .dataframe tbody tr th {\n",
       "        vertical-align: top;\n",
       "    }\n",
       "\n",
       "    .dataframe thead th {\n",
       "        text-align: right;\n",
       "    }\n",
       "</style>\n",
       "<table border=\"1\" class=\"dataframe\">\n",
       "  <thead>\n",
       "    <tr style=\"text-align: right;\">\n",
       "      <th></th>\n",
       "      <th>Business</th>\n",
       "      <th>Age</th>\n",
       "      <th>Salary</th>\n",
       "      <th>Base_pay</th>\n",
       "      <th>Bonus</th>\n",
       "      <th>Unit_Price</th>\n",
       "      <th>Volume</th>\n",
       "      <th>openingbalance</th>\n",
       "      <th>closingbalance</th>\n",
       "      <th>low</th>\n",
       "      <th>Unit_Sales</th>\n",
       "      <th>Months</th>\n",
       "    </tr>\n",
       "  </thead>\n",
       "  <tbody>\n",
       "    <tr>\n",
       "      <th>count</th>\n",
       "      <td>5000.000000</td>\n",
       "      <td>5000.000000</td>\n",
       "      <td>5000.000000</td>\n",
       "      <td>4977.000000</td>\n",
       "      <td>5000.000000</td>\n",
       "      <td>5000.000000</td>\n",
       "      <td>5.000000e+03</td>\n",
       "      <td>3524.000000</td>\n",
       "      <td>5000.000000</td>\n",
       "      <td>5000.000000</td>\n",
       "      <td>5000.00000</td>\n",
       "      <td>5000.00000</td>\n",
       "    </tr>\n",
       "    <tr>\n",
       "      <th>mean</th>\n",
       "      <td>0.160000</td>\n",
       "      <td>51.865000</td>\n",
       "      <td>99821.928553</td>\n",
       "      <td>40046.187707</td>\n",
       "      <td>4991.096428</td>\n",
       "      <td>51.258522</td>\n",
       "      <td>6.761260e+06</td>\n",
       "      <td>43.922020</td>\n",
       "      <td>43.577828</td>\n",
       "      <td>43.034129</td>\n",
       "      <td>64.84151</td>\n",
       "      <td>32.18480</td>\n",
       "    </tr>\n",
       "    <tr>\n",
       "      <th>std</th>\n",
       "      <td>0.366643</td>\n",
       "      <td>8.560691</td>\n",
       "      <td>25376.961744</td>\n",
       "      <td>10135.686075</td>\n",
       "      <td>1268.848087</td>\n",
       "      <td>52.244022</td>\n",
       "      <td>1.620476e+07</td>\n",
       "      <td>38.361497</td>\n",
       "      <td>37.148512</td>\n",
       "      <td>36.760641</td>\n",
       "      <td>30.13968</td>\n",
       "      <td>24.63673</td>\n",
       "    </tr>\n",
       "    <tr>\n",
       "      <th>min</th>\n",
       "      <td>0.000000</td>\n",
       "      <td>18.000000</td>\n",
       "      <td>5089.000000</td>\n",
       "      <td>2035.600000</td>\n",
       "      <td>254.450000</td>\n",
       "      <td>1.440000</td>\n",
       "      <td>0.000000e+00</td>\n",
       "      <td>3.680000</td>\n",
       "      <td>3.680000</td>\n",
       "      <td>3.650000</td>\n",
       "      <td>18.25000</td>\n",
       "      <td>0.00000</td>\n",
       "    </tr>\n",
       "    <tr>\n",
       "      <th>25%</th>\n",
       "      <td>0.000000</td>\n",
       "      <td>47.000000</td>\n",
       "      <td>83890.338980</td>\n",
       "      <td>33720.552420</td>\n",
       "      <td>4194.516950</td>\n",
       "      <td>25.727500</td>\n",
       "      <td>1.283850e+06</td>\n",
       "      <td>22.098750</td>\n",
       "      <td>21.990000</td>\n",
       "      <td>21.718750</td>\n",
       "      <td>35.50000</td>\n",
       "      <td>8.00000</td>\n",
       "    </tr>\n",
       "    <tr>\n",
       "      <th>50%</th>\n",
       "      <td>0.000000</td>\n",
       "      <td>52.000000</td>\n",
       "      <td>100579.378500</td>\n",
       "      <td>40282.016040</td>\n",
       "      <td>5028.968925</td>\n",
       "      <td>39.205000</td>\n",
       "      <td>2.870600e+06</td>\n",
       "      <td>33.119999</td>\n",
       "      <td>33.340000</td>\n",
       "      <td>32.880001</td>\n",
       "      <td>70.50000</td>\n",
       "      <td>28.00000</td>\n",
       "    </tr>\n",
       "    <tr>\n",
       "      <th>75%</th>\n",
       "      <td>0.000000</td>\n",
       "      <td>57.000000</td>\n",
       "      <td>116912.092475</td>\n",
       "      <td>46792.232410</td>\n",
       "      <td>5845.604624</td>\n",
       "      <td>58.715000</td>\n",
       "      <td>6.247100e+06</td>\n",
       "      <td>51.421839</td>\n",
       "      <td>51.117500</td>\n",
       "      <td>50.415000</td>\n",
       "      <td>89.95000</td>\n",
       "      <td>55.00000</td>\n",
       "    </tr>\n",
       "    <tr>\n",
       "      <th>max</th>\n",
       "      <td>1.000000</td>\n",
       "      <td>88.000000</td>\n",
       "      <td>199970.740000</td>\n",
       "      <td>79988.296000</td>\n",
       "      <td>9998.537000</td>\n",
       "      <td>629.511067</td>\n",
       "      <td>3.208684e+08</td>\n",
       "      <td>313.903904</td>\n",
       "      <td>313.688694</td>\n",
       "      <td>312.432438</td>\n",
       "      <td>118.75000</td>\n",
       "      <td>72.00000</td>\n",
       "    </tr>\n",
       "  </tbody>\n",
       "</table>\n",
       "</div>"
      ],
      "text/plain": [
       "          Business          Age         Salary      Base_pay        Bonus  \\\n",
       "count  5000.000000  5000.000000    5000.000000   4977.000000  5000.000000   \n",
       "mean      0.160000    51.865000   99821.928553  40046.187707  4991.096428   \n",
       "std       0.366643     8.560691   25376.961744  10135.686075  1268.848087   \n",
       "min       0.000000    18.000000    5089.000000   2035.600000   254.450000   \n",
       "25%       0.000000    47.000000   83890.338980  33720.552420  4194.516950   \n",
       "50%       0.000000    52.000000  100579.378500  40282.016040  5028.968925   \n",
       "75%       0.000000    57.000000  116912.092475  46792.232410  5845.604624   \n",
       "max       1.000000    88.000000  199970.740000  79988.296000  9998.537000   \n",
       "\n",
       "        Unit_Price        Volume  openingbalance  closingbalance          low  \\\n",
       "count  5000.000000  5.000000e+03     3524.000000     5000.000000  5000.000000   \n",
       "mean     51.258522  6.761260e+06       43.922020       43.577828    43.034129   \n",
       "std      52.244022  1.620476e+07       38.361497       37.148512    36.760641   \n",
       "min       1.440000  0.000000e+00        3.680000        3.680000     3.650000   \n",
       "25%      25.727500  1.283850e+06       22.098750       21.990000    21.718750   \n",
       "50%      39.205000  2.870600e+06       33.119999       33.340000    32.880001   \n",
       "75%      58.715000  6.247100e+06       51.421839       51.117500    50.415000   \n",
       "max     629.511067  3.208684e+08      313.903904      313.688694   312.432438   \n",
       "\n",
       "       Unit_Sales      Months  \n",
       "count  5000.00000  5000.00000  \n",
       "mean     64.84151    32.18480  \n",
       "std      30.13968    24.63673  \n",
       "min      18.25000     0.00000  \n",
       "25%      35.50000     8.00000  \n",
       "50%      70.50000    28.00000  \n",
       "75%      89.95000    55.00000  \n",
       "max     118.75000    72.00000  "
      ]
     },
     "execution_count": 401,
     "metadata": {},
     "output_type": "execute_result"
    }
   ],
   "source": [
    "## The describe function gives the basic statistics of the dataset like mean,std....of the dataset\n",
    "\n",
    "df.describe()"
   ]
  },
  {
   "cell_type": "code",
   "execution_count": 402,
   "id": "837447dd",
   "metadata": {},
   "outputs": [
    {
     "data": {
      "text/plain": [
       "Gender               0\n",
       "Business             0\n",
       "Dependancies         0\n",
       "Calls                0\n",
       "Type                 0\n",
       "Billing              0\n",
       "Rating               0\n",
       "Age                  0\n",
       "Salary               0\n",
       "Base_pay            23\n",
       "Bonus                0\n",
       "Unit_Price           0\n",
       "Volume               0\n",
       "openingbalance    1476\n",
       "closingbalance       0\n",
       "low                  0\n",
       "Unit_Sales           0\n",
       "Total_Sales          8\n",
       "Months               0\n",
       "Education            0\n",
       "dtype: int64"
      ]
     },
     "execution_count": 402,
     "metadata": {},
     "output_type": "execute_result"
    }
   ],
   "source": [
    "### Checking the null in dataset by using the isnull() function.\n",
    "df.isnull().sum()"
   ]
  },
  {
   "cell_type": "markdown",
   "id": "86114fdc",
   "metadata": {},
   "source": [
    "-There are 23 missing values in Base_pay column\n",
    "\n",
    "-1476 missing values are present in openingbalance column\n",
    "\n",
    "-8 missing values are present in Total_Sales column"
   ]
  },
  {
   "cell_type": "markdown",
   "id": "b0b48965",
   "metadata": {},
   "source": [
    "# DISTRIBUTION OF THE DATASET"
   ]
  },
  {
   "cell_type": "code",
   "execution_count": 403,
   "id": "67549fb5",
   "metadata": {},
   "outputs": [
    {
     "data": {
      "text/plain": [
       "array([[<AxesSubplot:title={'center':'Business'}>,\n",
       "        <AxesSubplot:title={'center':'Age'}>,\n",
       "        <AxesSubplot:title={'center':'Salary'}>],\n",
       "       [<AxesSubplot:title={'center':'Base_pay'}>,\n",
       "        <AxesSubplot:title={'center':'Bonus'}>,\n",
       "        <AxesSubplot:title={'center':'Unit_Price'}>],\n",
       "       [<AxesSubplot:title={'center':'Volume'}>,\n",
       "        <AxesSubplot:title={'center':'openingbalance'}>,\n",
       "        <AxesSubplot:title={'center':'closingbalance'}>],\n",
       "       [<AxesSubplot:title={'center':'low'}>,\n",
       "        <AxesSubplot:title={'center':'Unit_Sales'}>,\n",
       "        <AxesSubplot:title={'center':'Months'}>]], dtype=object)"
      ]
     },
     "execution_count": 403,
     "metadata": {},
     "output_type": "execute_result"
    },
    {
     "data": {
      "image/png": "[encoded data removed]",
      "text/plain": [
       "<Figure size 1440x1296 with 12 Axes>"
      ]
     },
     "metadata": {
      "needs_background": "light"
     },
     "output_type": "display_data"
    }
   ],
   "source": [
    "### Checking the distribution of the dataset\n",
    "\n",
    "import matplotlib.pyplot as plt\n",
    "%matplotlib inline\n",
    "\n",
    "## Using the histogram to check the distribution\n",
    "df.hist(figsize=(20,18))"
   ]
  },
  {
   "cell_type": "markdown",
   "id": "88860b84",
   "metadata": {},
   "source": [
    " A histogram is an accurate representation of the distribution of numerical data. It is an estimate of the probability distribution of a continuous variable. It is a kind of bar graph.\n",
    " \n",
    " We can see that most of the columns are not normally distributed.\n",
    " \n",
    " -By looking at Age histogram, we can say it follows normal distribution.\n",
    " \n",
    " -Salary, Base_pay, Bonus are following the normal Distribution.\n",
    " \n",
    " -Unit_price column is highly positivly skewed, i.e that doesn't the normal distribution.\n",
    " \n",
    " -Volume, Openingbalance, Closingbalance, low are also highly positively skewed, that means these columns does not follow the \n",
    "  Normal Distribution.\n",
    "  \n",
    " -Unit sales columns is left skewed and it doesn't have bell shape curse, so unit_sales columns is not normally distributed.\n",
    " \n",
    " -Months column is following the uniform distribution. it doesn't following the normal distribution."
   ]
  },
  {
   "cell_type": "markdown",
   "id": "3394ac97",
   "metadata": {},
   "source": [
    "# Finding the Correlation Between variables using the spearman rank correlation"
   ]
  },
  {
   "cell_type": "code",
   "execution_count": 404,
   "id": "8b2c516e",
   "metadata": {
    "scrolled": false
   },
   "outputs": [
    {
     "data": {
      "image/png": "[encoded data removed]",
      "text/plain": [
       "<Figure size 1080x576 with 2 Axes>"
      ]
     },
     "metadata": {
      "needs_background": "light"
     },
     "output_type": "display_data"
    }
   ],
   "source": [
    "plt.figure(figsize = (15,8))\n",
    "corr = df.corr(method = 'spearman')\n",
    "sns.heatmap(corr, cmap = 'coolwarm', annot = True)\n",
    "plt.show()"
   ]
  },
  {
   "cell_type": "markdown",
   "id": "c0573932",
   "metadata": {},
   "source": [
    "Spearman correlation determines the strength and direction of the relationship between two variables.\n",
    "\n",
    "By looking the at the heatmap, we can see that Base_pay, Bonus, low and unit sales are highly correlated.And unit_price column is close to 1.\n",
    "\n",
    "That means when the value of one variable increases the values of another variable is also increases or vice versa but not in a linear manner.\n",
    "\n",
    "This correlation is a problem because independent variables should be independent. If the degree of correlation between variables is high enough, it can cause problems when you fit the model and interpret the results.\n",
    "\n",
    "If we use the high correlated variables in ML Model, that may leads to overfitting."
   ]
  },
  {
   "cell_type": "markdown",
   "id": "5bc0dee8",
   "metadata": {},
   "source": [
    "# Relationship Between the categorical variables and the dependent varialbes"
   ]
  },
  {
   "cell_type": "markdown",
   "id": "c4df6029",
   "metadata": {},
   "source": [
    "We use the Barplot, Countplot, swarmplot.... to see the relationship of categorical columns"
   ]
  },
  {
   "cell_type": "code",
   "execution_count": 405,
   "id": "cab806d7",
   "metadata": {},
   "outputs": [
    {
     "data": {
      "text/plain": [
       "Male      2528\n",
       "Female    2472\n",
       "Name: Gender, dtype: int64"
      ]
     },
     "execution_count": 405,
     "metadata": {},
     "output_type": "execute_result"
    }
   ],
   "source": [
    "## Checking the counts of male amd female\n",
    "\n",
    "df['Gender'].value_counts()"
   ]
  },
  {
   "cell_type": "markdown",
   "id": "7deac203",
   "metadata": {},
   "source": [
    "There's no much difference between male and female.\n",
    "\n",
    "Male count is more than the female count with slight difference"
   ]
  },
  {
   "cell_type": "code",
   "execution_count": 406,
   "id": "aa8b304a",
   "metadata": {},
   "outputs": [
    {
     "data": {
      "text/plain": [
       "<AxesSubplot:xlabel='Gender', ylabel='count'>"
      ]
     },
     "execution_count": 406,
     "metadata": {},
     "output_type": "execute_result"
    },
    {
     "data": {
      "image/png": "[encoded data removed]",
      "text/plain": [
       "<Figure size 432x288 with 1 Axes>"
      ]
     },
     "metadata": {
      "needs_background": "light"
     },
     "output_type": "display_data"
    }
   ],
   "source": [
    "sns.countplot(df['Gender'], palette = 'hot', data = df)"
   ]
  },
  {
   "cell_type": "markdown",
   "id": "d8396358",
   "metadata": {},
   "source": [
    "By looking at the bar graph we can see the slight difference between the male and female."
   ]
  },
  {
   "cell_type": "code",
   "execution_count": 407,
   "id": "cc9e4397",
   "metadata": {},
   "outputs": [
    {
     "data": {
      "text/plain": [
       "Yes    4539\n",
       "No      461\n",
       "Name: Calls, dtype: int64"
      ]
     },
     "execution_count": 407,
     "metadata": {},
     "output_type": "execute_result"
    }
   ],
   "source": [
    "## Calls column : If the person has the authority to make calls or not\n",
    "## checking the calls column to see the majority between 'yes' or 'no'\n",
    "\n",
    "df['Calls'].value_counts()"
   ]
  },
  {
   "cell_type": "markdown",
   "id": "a06d5ed1",
   "metadata": {},
   "source": [
    "We can see that most of the people has the authority to call."
   ]
  },
  {
   "cell_type": "code",
   "execution_count": 408,
   "id": "e1f8fe6a",
   "metadata": {},
   "outputs": [
    {
     "data": {
      "image/png": "[encoded data removed]",
      "text/plain": [
       "<Figure size 432x288 with 1 Axes>"
      ]
     },
     "metadata": {
      "needs_background": "light"
     },
     "output_type": "display_data"
    }
   ],
   "source": [
    "## We are using the 'swarmplot' to see the difference between them.\n",
    "\n",
    "sns.swarmplot(x=df['Calls'], y=df['Salary'])\n",
    "plt.show()"
   ]
  },
  {
   "cell_type": "markdown",
   "id": "a3b0b654",
   "metadata": {},
   "source": [
    "We use the swarmplot beacause it doesn't overlap the values."
   ]
  },
  {
   "cell_type": "code",
   "execution_count": 409,
   "id": "07616695",
   "metadata": {},
   "outputs": [
    {
     "data": {
      "text/plain": [
       "Month-to-month    2777\n",
       "Two year          1195\n",
       "One year          1028\n",
       "Name: Type, dtype: int64"
      ]
     },
     "execution_count": 409,
     "metadata": {},
     "output_type": "execute_result"
    }
   ],
   "source": [
    "df['Type'].value_counts()"
   ]
  },
  {
   "cell_type": "code",
   "execution_count": 410,
   "id": "9a882e92",
   "metadata": {},
   "outputs": [
    {
     "data": {
      "text/plain": [
       "<AxesSubplot:xlabel='Type', ylabel='Salary'>"
      ]
     },
     "execution_count": 410,
     "metadata": {},
     "output_type": "execute_result"
    },
    {
     "data": {
      "image/png": "[encoded data removed]",
      "text/plain": [
       "<Figure size 432x288 with 1 Axes>"
      ]
     },
     "metadata": {
      "needs_background": "light"
     },
     "output_type": "display_data"
    }
   ],
   "source": [
    "### Type: Salary Settlement type\n",
    "### We are using the barplot to type of the salary\n",
    "\n",
    "sns.barplot(df['Type'], df['Salary'], palette = 'crest', data = df)"
   ]
  },
  {
   "cell_type": "markdown",
   "id": "b2bade82",
   "metadata": {},
   "source": [
    "By looking at the barplot we can say that mostly salary type is month-to-month then Two Year Rtpe and then one year."
   ]
  },
  {
   "cell_type": "code",
   "execution_count": 411,
   "id": "5921c1e5",
   "metadata": {},
   "outputs": [
    {
     "data": {
      "text/plain": [
       "No     3682\n",
       "Yes    1318\n",
       "Name: Rating, dtype: int64"
      ]
     },
     "execution_count": 411,
     "metadata": {},
     "output_type": "execute_result"
    }
   ],
   "source": [
    "df['Rating'].value_counts()"
   ]
  },
  {
   "cell_type": "code",
   "execution_count": 412,
   "id": "4d249797",
   "metadata": {},
   "outputs": [
    {
     "data": {
      "text/plain": [
       "<AxesSubplot:xlabel='Rating', ylabel='count'>"
      ]
     },
     "execution_count": 412,
     "metadata": {},
     "output_type": "execute_result"
    },
    {
     "data": {
      "image/png": "[encoded data removed]",
      "text/plain": [
       "<Figure size 432x288 with 1 Axes>"
      ]
     },
     "metadata": {
      "needs_background": "light"
     },
     "output_type": "display_data"
    }
   ],
   "source": [
    "## Rating: If he/her has been given a rating by a superior or no\n",
    "## checking the rating column whether the person has been given a rating or not\n",
    "\n",
    "sns.countplot(df['Rating'],palette = 'cubehelix',data = df)"
   ]
  },
  {
   "cell_type": "markdown",
   "id": "241b3b47",
   "metadata": {},
   "source": [
    "We can see that many people have not been given rating by .\n",
    "\n",
    "only few got rating from thier superior.\n",
    "\n",
    "\n",
    "\n"
   ]
  },
  {
   "cell_type": "code",
   "execution_count": 413,
   "id": "7aa41fdd",
   "metadata": {},
   "outputs": [
    {
     "data": {
      "text/plain": [
       "<AxesSubplot:xlabel='Dependancies', ylabel='count'>"
      ]
     },
     "execution_count": 413,
     "metadata": {},
     "output_type": "execute_result"
    },
    {
     "data": {
      "image/png": "[encoded data removed]",
      "text/plain": [
       "<Figure size 432x288 with 1 Axes>"
      ]
     },
     "metadata": {
      "needs_background": "light"
     },
     "output_type": "display_data"
    }
   ],
   "source": [
    "## Dependants : Number of people dependent on the person.\n",
    "## checking the dependants column to see the number of people dependent on the person or not.\n",
    "\n",
    "sns.countplot(df['Dependancies'], palette = 'mako', data = df)"
   ]
  },
  {
   "cell_type": "markdown",
   "id": "b086f78f",
   "metadata": {},
   "source": [
    "The countplot shows that many people are not dependent on the person and only few people are dependent on the person. "
   ]
  },
  {
   "cell_type": "code",
   "execution_count": 414,
   "id": "1c0e7088",
   "metadata": {},
   "outputs": [
    {
     "data": {
      "text/plain": [
       "<AxesSubplot:xlabel='Education', ylabel='Salary'>"
      ]
     },
     "execution_count": 414,
     "metadata": {},
     "output_type": "execute_result"
    },
    {
     "data": {
      "image/png": "[encoded data removed]",
      "text/plain": [
       "<Figure size 432x288 with 1 Axes>"
      ]
     },
     "metadata": {
      "needs_background": "light"
     },
     "output_type": "display_data"
    }
   ],
   "source": [
    "## Education column: Educational background of an employee.\n",
    "## cheching the salary with respect to education.\n",
    "\n",
    "sns.barplot(df['Education'], df['Salary'], palette = 'Spectral', data = df)"
   ]
  },
  {
   "cell_type": "markdown",
   "id": "10a7894e",
   "metadata": {},
   "source": [
    "The barplot shows high school or less have the salary below 20000\n",
    "\n",
    "Intermediate education background people also have salary below 20000\n",
    "\n",
    "Graduation people people have salary above 80000\n",
    "\n",
    "PG education background have salary above 100000"
   ]
  },
  {
   "cell_type": "markdown",
   "id": "310377a4",
   "metadata": {},
   "source": [
    "# Missing values Treatment"
   ]
  },
  {
   "cell_type": "code",
   "execution_count": 415,
   "id": "cff7bc96",
   "metadata": {},
   "outputs": [
    {
     "name": "stdout",
     "output_type": "stream",
     "text": [
      "<class 'pandas.core.frame.DataFrame'>\n",
      "RangeIndex: 5000 entries, 0 to 4999\n",
      "Data columns (total 20 columns):\n",
      " #   Column          Non-Null Count  Dtype  \n",
      "---  ------          --------------  -----  \n",
      " 0   Gender          5000 non-null   object \n",
      " 1   Business        5000 non-null   int64  \n",
      " 2   Dependancies    5000 non-null   object \n",
      " 3   Calls           5000 non-null   object \n",
      " 4   Type            5000 non-null   object \n",
      " 5   Billing         5000 non-null   object \n",
      " 6   Rating          5000 non-null   object \n",
      " 7   Age             5000 non-null   int64  \n",
      " 8   Salary          5000 non-null   float64\n",
      " 9   Base_pay        4977 non-null   float64\n",
      " 10  Bonus           5000 non-null   float64\n",
      " 11  Unit_Price      5000 non-null   float64\n",
      " 12  Volume          5000 non-null   int64  \n",
      " 13  openingbalance  3524 non-null   float64\n",
      " 14  closingbalance  5000 non-null   float64\n",
      " 15  low             5000 non-null   float64\n",
      " 16  Unit_Sales      5000 non-null   float64\n",
      " 17  Total_Sales     4992 non-null   object \n",
      " 18  Months          5000 non-null   int64  \n",
      " 19  Education       5000 non-null   object \n",
      "dtypes: float64(8), int64(4), object(8)\n",
      "memory usage: 781.4+ KB\n"
     ]
    }
   ],
   "source": [
    "df.info()"
   ]
  },
  {
   "cell_type": "markdown",
   "id": "f29b526a",
   "metadata": {},
   "source": [
    "We have seen that there are missing values in our dataset in base pay, openingbalance, total sales.\n",
    "\n",
    "We cannot drop the null values/missing values in this data because that may lead to lose the other information.\n",
    "\n",
    "we need to fill the missing values with respect to that column.\n",
    "\n",
    "And the data type total_sales is object, we need to change it to float data type."
   ]
  },
  {
   "cell_type": "markdown",
   "id": "296cb496",
   "metadata": {},
   "source": [
    "Since we cannot drop the missing values we need to fill them with mean, median or mode.\n",
    "\n",
    "If the data is normally distributed we can fill with mean.\n",
    "\n",
    "if the data is skewed we cannot fill with mean, we can go with median.\n",
    "\n",
    "so, we need to check the column distribution before filling them."
   ]
  },
  {
   "cell_type": "code",
   "execution_count": 416,
   "id": "b57723bf",
   "metadata": {},
   "outputs": [],
   "source": [
    "## We have seen in the columns distribution that base_pay column is normally distributed.\n",
    "## we can fill the Base_pay with mean.\n",
    "\n",
    "df['Base_pay'] = df['Base_pay'].fillna(df['Base_pay'].mean())"
   ]
  },
  {
   "cell_type": "code",
   "execution_count": 417,
   "id": "f53a5c37",
   "metadata": {},
   "outputs": [],
   "source": [
    "## We have seen in the columns distribution that openingbalance column is left skewed that means mean is less than \n",
    "## the median. so, the openingbalance column doesn't follow the normal distribution.\n",
    "## we need to fill this column with median.\n",
    "\n",
    "df['openingbalance'] = df['openingbalance'].fillna(df['openingbalance'].median())"
   ]
  },
  {
   "cell_type": "code",
   "execution_count": 418,
   "id": "4eb72e6a",
   "metadata": {},
   "outputs": [
    {
     "data": {
      "text/html": [
       "<div>\n",
       "<style scoped>\n",
       "    .dataframe tbody tr th:only-of-type {\n",
       "        vertical-align: middle;\n",
       "    }\n",
       "\n",
       "    .dataframe tbody tr th {\n",
       "        vertical-align: top;\n",
       "    }\n",
       "\n",
       "    .dataframe thead th {\n",
       "        text-align: right;\n",
       "    }\n",
       "</style>\n",
       "<table border=\"1\" class=\"dataframe\">\n",
       "  <thead>\n",
       "    <tr style=\"text-align: right;\">\n",
       "      <th></th>\n",
       "      <th>Gender</th>\n",
       "      <th>Business</th>\n",
       "      <th>Dependancies</th>\n",
       "      <th>Calls</th>\n",
       "      <th>Type</th>\n",
       "      <th>Billing</th>\n",
       "      <th>Rating</th>\n",
       "      <th>Age</th>\n",
       "      <th>Salary</th>\n",
       "      <th>Base_pay</th>\n",
       "      <th>Bonus</th>\n",
       "      <th>Unit_Price</th>\n",
       "      <th>Volume</th>\n",
       "      <th>openingbalance</th>\n",
       "      <th>closingbalance</th>\n",
       "      <th>low</th>\n",
       "      <th>Unit_Sales</th>\n",
       "      <th>Total_Sales</th>\n",
       "      <th>Months</th>\n",
       "      <th>Education</th>\n",
       "    </tr>\n",
       "  </thead>\n",
       "  <tbody>\n",
       "    <tr>\n",
       "      <th>4995</th>\n",
       "      <td>Female</td>\n",
       "      <td>0</td>\n",
       "      <td>No</td>\n",
       "      <td>Yes</td>\n",
       "      <td>Month-to-month</td>\n",
       "      <td>No</td>\n",
       "      <td>No</td>\n",
       "      <td>72</td>\n",
       "      <td>180696.80</td>\n",
       "      <td>72278.720</td>\n",
       "      <td>9034.840</td>\n",
       "      <td>629.511067</td>\n",
       "      <td>3927000</td>\n",
       "      <td>33.119999</td>\n",
       "      <td>293.838840</td>\n",
       "      <td>310.955001</td>\n",
       "      <td>117.80</td>\n",
       "      <td></td>\n",
       "      <td>72</td>\n",
       "      <td>PG</td>\n",
       "    </tr>\n",
       "    <tr>\n",
       "      <th>4996</th>\n",
       "      <td>Male</td>\n",
       "      <td>0</td>\n",
       "      <td>No</td>\n",
       "      <td>Yes</td>\n",
       "      <td>Month-to-month</td>\n",
       "      <td>Yes</td>\n",
       "      <td>No</td>\n",
       "      <td>73</td>\n",
       "      <td>185685.90</td>\n",
       "      <td>74274.360</td>\n",
       "      <td>9284.295</td>\n",
       "      <td>627.841071</td>\n",
       "      <td>6031900</td>\n",
       "      <td>33.119999</td>\n",
       "      <td>301.311314</td>\n",
       "      <td>309.610028</td>\n",
       "      <td>118.60</td>\n",
       "      <td></td>\n",
       "      <td>72</td>\n",
       "      <td>PG</td>\n",
       "    </tr>\n",
       "    <tr>\n",
       "      <th>4997</th>\n",
       "      <td>Male</td>\n",
       "      <td>0</td>\n",
       "      <td>No</td>\n",
       "      <td>Yes</td>\n",
       "      <td>Month-to-month</td>\n",
       "      <td>Yes</td>\n",
       "      <td>No</td>\n",
       "      <td>74</td>\n",
       "      <td>192636.80</td>\n",
       "      <td>77054.720</td>\n",
       "      <td>9631.840</td>\n",
       "      <td>625.860033</td>\n",
       "      <td>7949400</td>\n",
       "      <td>33.119999</td>\n",
       "      <td>306.040009</td>\n",
       "      <td>303.483494</td>\n",
       "      <td>118.60</td>\n",
       "      <td></td>\n",
       "      <td>72</td>\n",
       "      <td>PG</td>\n",
       "    </tr>\n",
       "    <tr>\n",
       "      <th>4998</th>\n",
       "      <td>Male</td>\n",
       "      <td>1</td>\n",
       "      <td>No</td>\n",
       "      <td>Yes</td>\n",
       "      <td>Month-to-month</td>\n",
       "      <td>Yes</td>\n",
       "      <td>Yes</td>\n",
       "      <td>74</td>\n",
       "      <td>195970.70</td>\n",
       "      <td>78388.280</td>\n",
       "      <td>9798.535</td>\n",
       "      <td>629.510005</td>\n",
       "      <td>3908400</td>\n",
       "      <td>33.119999</td>\n",
       "      <td>308.579987</td>\n",
       "      <td>312.432438</td>\n",
       "      <td>118.65</td>\n",
       "      <td></td>\n",
       "      <td>72</td>\n",
       "      <td>PG</td>\n",
       "    </tr>\n",
       "    <tr>\n",
       "      <th>4999</th>\n",
       "      <td>Male</td>\n",
       "      <td>0</td>\n",
       "      <td>Yes</td>\n",
       "      <td>Yes</td>\n",
       "      <td>Two year</td>\n",
       "      <td>Yes</td>\n",
       "      <td>No</td>\n",
       "      <td>88</td>\n",
       "      <td>199970.74</td>\n",
       "      <td>79988.296</td>\n",
       "      <td>9998.537</td>\n",
       "      <td>627.839984</td>\n",
       "      <td>6003300</td>\n",
       "      <td>33.119999</td>\n",
       "      <td>312.307316</td>\n",
       "      <td>311.081089</td>\n",
       "      <td>118.75</td>\n",
       "      <td></td>\n",
       "      <td>72</td>\n",
       "      <td>PG</td>\n",
       "    </tr>\n",
       "  </tbody>\n",
       "</table>\n",
       "</div>"
      ],
      "text/plain": [
       "      Gender  Business Dependancies Calls            Type Billing Rating  Age  \\\n",
       "4995  Female         0           No   Yes  Month-to-month      No     No   72   \n",
       "4996    Male         0           No   Yes  Month-to-month     Yes     No   73   \n",
       "4997    Male         0           No   Yes  Month-to-month     Yes     No   74   \n",
       "4998    Male         1           No   Yes  Month-to-month     Yes    Yes   74   \n",
       "4999    Male         0          Yes   Yes        Two year     Yes     No   88   \n",
       "\n",
       "         Salary   Base_pay     Bonus  Unit_Price   Volume  openingbalance  \\\n",
       "4995  180696.80  72278.720  9034.840  629.511067  3927000       33.119999   \n",
       "4996  185685.90  74274.360  9284.295  627.841071  6031900       33.119999   \n",
       "4997  192636.80  77054.720  9631.840  625.860033  7949400       33.119999   \n",
       "4998  195970.70  78388.280  9798.535  629.510005  3908400       33.119999   \n",
       "4999  199970.74  79988.296  9998.537  627.839984  6003300       33.119999   \n",
       "\n",
       "      closingbalance         low  Unit_Sales Total_Sales  Months Education  \n",
       "4995      293.838840  310.955001      117.80                  72        PG  \n",
       "4996      301.311314  309.610028      118.60                  72        PG  \n",
       "4997      306.040009  303.483494      118.60                  72        PG  \n",
       "4998      308.579987  312.432438      118.65                  72        PG  \n",
       "4999      312.307316  311.081089      118.75                  72        PG  "
      ]
     },
     "execution_count": 418,
     "metadata": {},
     "output_type": "execute_result"
    }
   ],
   "source": [
    "df.tail()"
   ]
  },
  {
   "cell_type": "markdown",
   "id": "90a02fa4",
   "metadata": {},
   "source": [
    "We can see that Total_sales column has empty cells.\n",
    "\n",
    "If we try to fill those empty cells with mean or median, it will throws an error.\n",
    "\n",
    "we need to replace the empty cells with null values, then we can fill them with mean or median."
   ]
  },
  {
   "cell_type": "code",
   "execution_count": 419,
   "id": "81ff4a90",
   "metadata": {},
   "outputs": [],
   "source": [
    "## replacing the empty cells with null values.\n",
    "\n",
    "df = df.replace(r'^\\s*$', np.NaN, regex=True)"
   ]
  },
  {
   "cell_type": "code",
   "execution_count": 420,
   "id": "f7a4bc32",
   "metadata": {},
   "outputs": [
    {
     "data": {
      "text/html": [
       "<div>\n",
       "<style scoped>\n",
       "    .dataframe tbody tr th:only-of-type {\n",
       "        vertical-align: middle;\n",
       "    }\n",
       "\n",
       "    .dataframe tbody tr th {\n",
       "        vertical-align: top;\n",
       "    }\n",
       "\n",
       "    .dataframe thead th {\n",
       "        text-align: right;\n",
       "    }\n",
       "</style>\n",
       "<table border=\"1\" class=\"dataframe\">\n",
       "  <thead>\n",
       "    <tr style=\"text-align: right;\">\n",
       "      <th></th>\n",
       "      <th>Gender</th>\n",
       "      <th>Business</th>\n",
       "      <th>Dependancies</th>\n",
       "      <th>Calls</th>\n",
       "      <th>Type</th>\n",
       "      <th>Billing</th>\n",
       "      <th>Rating</th>\n",
       "      <th>Age</th>\n",
       "      <th>Salary</th>\n",
       "      <th>Base_pay</th>\n",
       "      <th>Bonus</th>\n",
       "      <th>Unit_Price</th>\n",
       "      <th>Volume</th>\n",
       "      <th>openingbalance</th>\n",
       "      <th>closingbalance</th>\n",
       "      <th>low</th>\n",
       "      <th>Unit_Sales</th>\n",
       "      <th>Total_Sales</th>\n",
       "      <th>Months</th>\n",
       "      <th>Education</th>\n",
       "    </tr>\n",
       "  </thead>\n",
       "  <tbody>\n",
       "    <tr>\n",
       "      <th>4995</th>\n",
       "      <td>Female</td>\n",
       "      <td>0</td>\n",
       "      <td>No</td>\n",
       "      <td>Yes</td>\n",
       "      <td>Month-to-month</td>\n",
       "      <td>No</td>\n",
       "      <td>No</td>\n",
       "      <td>72</td>\n",
       "      <td>180696.80</td>\n",
       "      <td>72278.720</td>\n",
       "      <td>9034.840</td>\n",
       "      <td>629.511067</td>\n",
       "      <td>3927000</td>\n",
       "      <td>33.119999</td>\n",
       "      <td>293.838840</td>\n",
       "      <td>310.955001</td>\n",
       "      <td>117.80</td>\n",
       "      <td>NaN</td>\n",
       "      <td>72</td>\n",
       "      <td>PG</td>\n",
       "    </tr>\n",
       "    <tr>\n",
       "      <th>4996</th>\n",
       "      <td>Male</td>\n",
       "      <td>0</td>\n",
       "      <td>No</td>\n",
       "      <td>Yes</td>\n",
       "      <td>Month-to-month</td>\n",
       "      <td>Yes</td>\n",
       "      <td>No</td>\n",
       "      <td>73</td>\n",
       "      <td>185685.90</td>\n",
       "      <td>74274.360</td>\n",
       "      <td>9284.295</td>\n",
       "      <td>627.841071</td>\n",
       "      <td>6031900</td>\n",
       "      <td>33.119999</td>\n",
       "      <td>301.311314</td>\n",
       "      <td>309.610028</td>\n",
       "      <td>118.60</td>\n",
       "      <td>NaN</td>\n",
       "      <td>72</td>\n",
       "      <td>PG</td>\n",
       "    </tr>\n",
       "    <tr>\n",
       "      <th>4997</th>\n",
       "      <td>Male</td>\n",
       "      <td>0</td>\n",
       "      <td>No</td>\n",
       "      <td>Yes</td>\n",
       "      <td>Month-to-month</td>\n",
       "      <td>Yes</td>\n",
       "      <td>No</td>\n",
       "      <td>74</td>\n",
       "      <td>192636.80</td>\n",
       "      <td>77054.720</td>\n",
       "      <td>9631.840</td>\n",
       "      <td>625.860033</td>\n",
       "      <td>7949400</td>\n",
       "      <td>33.119999</td>\n",
       "      <td>306.040009</td>\n",
       "      <td>303.483494</td>\n",
       "      <td>118.60</td>\n",
       "      <td>NaN</td>\n",
       "      <td>72</td>\n",
       "      <td>PG</td>\n",
       "    </tr>\n",
       "    <tr>\n",
       "      <th>4998</th>\n",
       "      <td>Male</td>\n",
       "      <td>1</td>\n",
       "      <td>No</td>\n",
       "      <td>Yes</td>\n",
       "      <td>Month-to-month</td>\n",
       "      <td>Yes</td>\n",
       "      <td>Yes</td>\n",
       "      <td>74</td>\n",
       "      <td>195970.70</td>\n",
       "      <td>78388.280</td>\n",
       "      <td>9798.535</td>\n",
       "      <td>629.510005</td>\n",
       "      <td>3908400</td>\n",
       "      <td>33.119999</td>\n",
       "      <td>308.579987</td>\n",
       "      <td>312.432438</td>\n",
       "      <td>118.65</td>\n",
       "      <td>NaN</td>\n",
       "      <td>72</td>\n",
       "      <td>PG</td>\n",
       "    </tr>\n",
       "    <tr>\n",
       "      <th>4999</th>\n",
       "      <td>Male</td>\n",
       "      <td>0</td>\n",
       "      <td>Yes</td>\n",
       "      <td>Yes</td>\n",
       "      <td>Two year</td>\n",
       "      <td>Yes</td>\n",
       "      <td>No</td>\n",
       "      <td>88</td>\n",
       "      <td>199970.74</td>\n",
       "      <td>79988.296</td>\n",
       "      <td>9998.537</td>\n",
       "      <td>627.839984</td>\n",
       "      <td>6003300</td>\n",
       "      <td>33.119999</td>\n",
       "      <td>312.307316</td>\n",
       "      <td>311.081089</td>\n",
       "      <td>118.75</td>\n",
       "      <td>NaN</td>\n",
       "      <td>72</td>\n",
       "      <td>PG</td>\n",
       "    </tr>\n",
       "  </tbody>\n",
       "</table>\n",
       "</div>"
      ],
      "text/plain": [
       "      Gender  Business Dependancies Calls            Type Billing Rating  Age  \\\n",
       "4995  Female         0           No   Yes  Month-to-month      No     No   72   \n",
       "4996    Male         0           No   Yes  Month-to-month     Yes     No   73   \n",
       "4997    Male         0           No   Yes  Month-to-month     Yes     No   74   \n",
       "4998    Male         1           No   Yes  Month-to-month     Yes    Yes   74   \n",
       "4999    Male         0          Yes   Yes        Two year     Yes     No   88   \n",
       "\n",
       "         Salary   Base_pay     Bonus  Unit_Price   Volume  openingbalance  \\\n",
       "4995  180696.80  72278.720  9034.840  629.511067  3927000       33.119999   \n",
       "4996  185685.90  74274.360  9284.295  627.841071  6031900       33.119999   \n",
       "4997  192636.80  77054.720  9631.840  625.860033  7949400       33.119999   \n",
       "4998  195970.70  78388.280  9798.535  629.510005  3908400       33.119999   \n",
       "4999  199970.74  79988.296  9998.537  627.839984  6003300       33.119999   \n",
       "\n",
       "      closingbalance         low  Unit_Sales Total_Sales  Months Education  \n",
       "4995      293.838840  310.955001      117.80         NaN      72        PG  \n",
       "4996      301.311314  309.610028      118.60         NaN      72        PG  \n",
       "4997      306.040009  303.483494      118.60         NaN      72        PG  \n",
       "4998      308.579987  312.432438      118.65         NaN      72        PG  \n",
       "4999      312.307316  311.081089      118.75         NaN      72        PG  "
      ]
     },
     "execution_count": 420,
     "metadata": {},
     "output_type": "execute_result"
    }
   ],
   "source": [
    "df.tail()"
   ]
  },
  {
   "cell_type": "markdown",
   "id": "d33b3dcb",
   "metadata": {},
   "source": [
    "We can see that empty has been replaced with null values.\n",
    "\n",
    "now, we need to change the data type of that column."
   ]
  },
  {
   "cell_type": "code",
   "execution_count": 421,
   "id": "d4ae0aba",
   "metadata": {},
   "outputs": [],
   "source": [
    "## Changing the datatype of Total_sales, object to float using 'astype'\n",
    "\n",
    "df=df.astype({'Total_Sales':'float'})"
   ]
  },
  {
   "cell_type": "code",
   "execution_count": 422,
   "id": "5430cb55",
   "metadata": {},
   "outputs": [
    {
     "data": {
      "text/plain": [
       "<AxesSubplot:xlabel='Total_Sales', ylabel='Density'>"
      ]
     },
     "execution_count": 422,
     "metadata": {},
     "output_type": "execute_result"
    },
    {
     "data": {
      "image/png": "[encoded data removed]",
      "text/plain": [
       "<Figure size 432x288 with 1 Axes>"
      ]
     },
     "metadata": {
      "needs_background": "light"
     },
     "output_type": "display_data"
    }
   ],
   "source": [
    "## checking the distribution of Total_sales column.\n",
    "## we can see that it is left skewed that means mean is less than the median.\n",
    "\n",
    "sns.distplot(df['Total_Sales'])"
   ]
  },
  {
   "cell_type": "code",
   "execution_count": 423,
   "id": "8a38be61",
   "metadata": {},
   "outputs": [],
   "source": [
    "## Since the data is left skewed, we need to fill with median.\n",
    "\n",
    "df['Total_Sales'] = df['Total_Sales'].fillna(df['Total_Sales'].median())"
   ]
  },
  {
   "cell_type": "code",
   "execution_count": 424,
   "id": "88730179",
   "metadata": {},
   "outputs": [
    {
     "name": "stdout",
     "output_type": "stream",
     "text": [
      "<class 'pandas.core.frame.DataFrame'>\n",
      "RangeIndex: 5000 entries, 0 to 4999\n",
      "Data columns (total 20 columns):\n",
      " #   Column          Non-Null Count  Dtype  \n",
      "---  ------          --------------  -----  \n",
      " 0   Gender          5000 non-null   object \n",
      " 1   Business        5000 non-null   int64  \n",
      " 2   Dependancies    5000 non-null   object \n",
      " 3   Calls           5000 non-null   object \n",
      " 4   Type            5000 non-null   object \n",
      " 5   Billing         5000 non-null   object \n",
      " 6   Rating          5000 non-null   object \n",
      " 7   Age             5000 non-null   int64  \n",
      " 8   Salary          5000 non-null   float64\n",
      " 9   Base_pay        5000 non-null   float64\n",
      " 10  Bonus           5000 non-null   float64\n",
      " 11  Unit_Price      5000 non-null   float64\n",
      " 12  Volume          5000 non-null   int64  \n",
      " 13  openingbalance  5000 non-null   float64\n",
      " 14  closingbalance  5000 non-null   float64\n",
      " 15  low             5000 non-null   float64\n",
      " 16  Unit_Sales      5000 non-null   float64\n",
      " 17  Total_Sales     5000 non-null   float64\n",
      " 18  Months          5000 non-null   int64  \n",
      " 19  Education       5000 non-null   object \n",
      "dtypes: float64(9), int64(4), object(7)\n",
      "memory usage: 781.4+ KB\n"
     ]
    }
   ],
   "source": [
    "df.info()"
   ]
  },
  {
   "cell_type": "markdown",
   "id": "7344e7d8",
   "metadata": {},
   "source": [
    "Now, we see that there are no missing values present in our dataset."
   ]
  },
  {
   "cell_type": "markdown",
   "id": "e4250f13",
   "metadata": {},
   "source": [
    "# Outlier Treatment"
   ]
  },
  {
   "cell_type": "markdown",
   "id": "592f647b",
   "metadata": {},
   "source": [
    "an outlier is a data point that differs significantly from other observations. An outlier may be due to variability in the measurement or it may indicate experimental error; the latter are sometimes excluded from the data set. An outlier can cause serious problems in statistical analyses."
   ]
  },
  {
   "cell_type": "code",
   "execution_count": 425,
   "id": "1753435c",
   "metadata": {},
   "outputs": [
    {
     "data": {
      "text/html": [
       "<div>\n",
       "<style scoped>\n",
       "    .dataframe tbody tr th:only-of-type {\n",
       "        vertical-align: middle;\n",
       "    }\n",
       "\n",
       "    .dataframe tbody tr th {\n",
       "        vertical-align: top;\n",
       "    }\n",
       "\n",
       "    .dataframe thead th {\n",
       "        text-align: right;\n",
       "    }\n",
       "</style>\n",
       "<table border=\"1\" class=\"dataframe\">\n",
       "  <thead>\n",
       "    <tr style=\"text-align: right;\">\n",
       "      <th></th>\n",
       "      <th>Features</th>\n",
       "      <th>Percentage</th>\n",
       "    </tr>\n",
       "  </thead>\n",
       "  <tbody>\n",
       "    <tr>\n",
       "      <th>0</th>\n",
       "      <td>Business</td>\n",
       "      <td>16.00</td>\n",
       "    </tr>\n",
       "    <tr>\n",
       "      <th>1</th>\n",
       "      <td>Age</td>\n",
       "      <td>2.30</td>\n",
       "    </tr>\n",
       "    <tr>\n",
       "      <th>2</th>\n",
       "      <td>Salary</td>\n",
       "      <td>1.54</td>\n",
       "    </tr>\n",
       "    <tr>\n",
       "      <th>3</th>\n",
       "      <td>Base_pay</td>\n",
       "      <td>1.66</td>\n",
       "    </tr>\n",
       "    <tr>\n",
       "      <th>4</th>\n",
       "      <td>Bonus</td>\n",
       "      <td>1.54</td>\n",
       "    </tr>\n",
       "    <tr>\n",
       "      <th>5</th>\n",
       "      <td>Unit_Price</td>\n",
       "      <td>8.22</td>\n",
       "    </tr>\n",
       "    <tr>\n",
       "      <th>6</th>\n",
       "      <td>Volume</td>\n",
       "      <td>10.00</td>\n",
       "    </tr>\n",
       "    <tr>\n",
       "      <th>7</th>\n",
       "      <td>openingbalance</td>\n",
       "      <td>10.60</td>\n",
       "    </tr>\n",
       "    <tr>\n",
       "      <th>8</th>\n",
       "      <td>closingbalance</td>\n",
       "      <td>7.94</td>\n",
       "    </tr>\n",
       "    <tr>\n",
       "      <th>9</th>\n",
       "      <td>low</td>\n",
       "      <td>7.92</td>\n",
       "    </tr>\n",
       "    <tr>\n",
       "      <th>10</th>\n",
       "      <td>Unit_Sales</td>\n",
       "      <td>0.00</td>\n",
       "    </tr>\n",
       "    <tr>\n",
       "      <th>11</th>\n",
       "      <td>Total_Sales</td>\n",
       "      <td>0.00</td>\n",
       "    </tr>\n",
       "    <tr>\n",
       "      <th>12</th>\n",
       "      <td>Months</td>\n",
       "      <td>0.00</td>\n",
       "    </tr>\n",
       "  </tbody>\n",
       "</table>\n",
       "</div>"
      ],
      "text/plain": [
       "          Features  Percentage\n",
       "0         Business       16.00\n",
       "1              Age        2.30\n",
       "2           Salary        1.54\n",
       "3         Base_pay        1.66\n",
       "4            Bonus        1.54\n",
       "5       Unit_Price        8.22\n",
       "6           Volume       10.00\n",
       "7   openingbalance       10.60\n",
       "8   closingbalance        7.94\n",
       "9              low        7.92\n",
       "10      Unit_Sales        0.00\n",
       "11     Total_Sales        0.00\n",
       "12          Months        0.00"
      ]
     },
     "execution_count": 425,
     "metadata": {},
     "output_type": "execute_result"
    }
   ],
   "source": [
    "## creating dataframe containing predictors and the corresponding outlier percetange.\n",
    "\n",
    "numeric_cols = df.select_dtypes(['int64','float64']).columns\n",
    "## taking columns of datatype int and float in numeric_cols\n",
    "\n",
    "## Keeping the name as outliers_per_dict and using the fot loop in numeric_cols\n",
    "outliers_per_dict = {}\n",
    "for i in numeric_cols:\n",
    "  ##Using the IQR for outliers and giving the maximum range(.75) - minimum range(.25)\n",
    "\n",
    "    IQR = df[i].quantile(.75)-df[i].quantile(.25)\n",
    "    ## Taking the d[i] with qunatile range .75 + 1.5(factor) multiply by IQR and d[i] with quantile range .25 - 1.5 multiply by\n",
    "    ## IQR\n",
    "    outliers_count = df[(df[i]>(df[i].quantile(.75)+1.5*IQR)) | (df[i]<(df[i].quantile(.25)-1.5*IQR))].shape[0]\n",
    "    total = df.shape[0]\n",
    "    outliers_per = round(outliers_count/total*100,2)\n",
    "    outliers_per_dict[i] = outliers_per\n",
    "outlier_df = pd.DataFrame({'Features':list(outliers_per_dict.keys()),'Percentage':list(outliers_per_dict.values())})\n",
    "outlier_df"
   ]
  },
  {
   "cell_type": "markdown",
   "id": "3f5a22f2",
   "metadata": {},
   "source": [
    "We can see that outliers columns with the percentage of outliers.\n",
    "We can see extreme outliers in business, volume and openingbalance."
   ]
  },
  {
   "cell_type": "markdown",
   "id": "6846bc61",
   "metadata": {},
   "source": [
    "We can check the percentage of data after removing the outliers."
   ]
  },
  {
   "cell_type": "code",
   "execution_count": 426,
   "id": "841971c3",
   "metadata": {},
   "outputs": [
    {
     "data": {
      "text/plain": [
       "<AxesSubplot:xlabel='Volume'>"
      ]
     },
     "execution_count": 426,
     "metadata": {},
     "output_type": "execute_result"
    },
    {
     "data": {
      "image/png": "[encoded data removed]",
      "text/plain": [
       "<Figure size 432x288 with 1 Axes>"
      ]
     },
     "metadata": {
      "needs_background": "light"
     },
     "output_type": "display_data"
    }
   ],
   "source": [
    "sns.boxplot(df['Volume'])"
   ]
  },
  {
   "cell_type": "code",
   "execution_count": 427,
   "id": "0eb15fa9",
   "metadata": {},
   "outputs": [
    {
     "data": {
      "text/plain": [
       "<AxesSubplot:xlabel='openingbalance'>"
      ]
     },
     "execution_count": 427,
     "metadata": {},
     "output_type": "execute_result"
    },
    {
     "data": {
      "image/png": "[encoded data removed]",
      "text/plain": [
       "<Figure size 432x288 with 1 Axes>"
      ]
     },
     "metadata": {
      "needs_background": "light"
     },
     "output_type": "display_data"
    }
   ],
   "source": [
    "sns.boxplot(df['openingbalance'])"
   ]
  },
  {
   "cell_type": "markdown",
   "id": "07720ad1",
   "metadata": {},
   "source": [
    "We can check the percentage of data after removing the outliers."
   ]
  },
  {
   "cell_type": "code",
   "execution_count": 428,
   "id": "7b0fa1e2",
   "metadata": {},
   "outputs": [
    {
     "data": {
      "text/plain": [
       "0.0"
      ]
     },
     "execution_count": 428,
     "metadata": {},
     "output_type": "execute_result"
    }
   ],
   "source": [
    "## checking the percentage of actual data after removing the outliers.\n",
    "\n",
    "df2=df\n",
    "## using the for loop and giving quantile range\n",
    "\n",
    "for i in numeric_cols:\n",
    "    IQR=df2[i].quantile(.75)-df2[i].quantile(.25)\n",
    "    df2=df2[(df2[i]>(df2[i].quantile(.75)+1.5*IQR)) & (df2[i]<(df2[i].quantile(.25)-1.5*IQR))]\n",
    "df2.shape[0]/df.shape[0]*100"
   ]
  },
  {
   "cell_type": "markdown",
   "id": "0adcfa65",
   "metadata": {},
   "source": [
    "So after removing outliers based in IQR, we are left with only 0.0% of the original data.\n",
    "\n",
    "Besides removing those outliers does not seem a wise option.\n",
    "\n",
    "Since this is employees data we simply cannot remove the data.\n",
    "\n",
    "we need to move forward with outliers\n"
   ]
  },
  {
   "cell_type": "markdown",
   "id": "b81f9308",
   "metadata": {},
   "source": [
    "# Converting the categorical columns to numerical."
   ]
  },
  {
   "cell_type": "code",
   "execution_count": 429,
   "id": "75f9cf19",
   "metadata": {},
   "outputs": [],
   "source": [
    "## taking all the categorical columns in cat_cols.\n",
    "\n",
    "cat_cols = ['Gender','Dependancies','Calls','Type','Billing','Rating','Education']"
   ]
  },
  {
   "cell_type": "code",
   "execution_count": 430,
   "id": "465644c5",
   "metadata": {},
   "outputs": [],
   "source": [
    "## we have categorical columns in yes or no format, so we can use the labelEncoder for conversion.\n",
    "## importing the labelEncoder from sklearn\n",
    "\n",
    "from sklearn.preprocessing import LabelEncoder\n",
    "\n",
    "## Using the for loop in cat_cols and fitting the labelencoder to it.\n",
    "\n",
    "for each_col in cat_cols:\n",
    "    le = LabelEncoder()\n",
    "    df[each_col] = le.fit_transform(df[each_col])"
   ]
  },
  {
   "cell_type": "code",
   "execution_count": 431,
   "id": "5dc0adf3",
   "metadata": {},
   "outputs": [
    {
     "data": {
      "text/html": [
       "<div>\n",
       "<style scoped>\n",
       "    .dataframe tbody tr th:only-of-type {\n",
       "        vertical-align: middle;\n",
       "    }\n",
       "\n",
       "    .dataframe tbody tr th {\n",
       "        vertical-align: top;\n",
       "    }\n",
       "\n",
       "    .dataframe thead th {\n",
       "        text-align: right;\n",
       "    }\n",
       "</style>\n",
       "<table border=\"1\" class=\"dataframe\">\n",
       "  <thead>\n",
       "    <tr style=\"text-align: right;\">\n",
       "      <th></th>\n",
       "      <th>Gender</th>\n",
       "      <th>Business</th>\n",
       "      <th>Dependancies</th>\n",
       "      <th>Calls</th>\n",
       "      <th>Type</th>\n",
       "      <th>Billing</th>\n",
       "      <th>Rating</th>\n",
       "      <th>Age</th>\n",
       "      <th>Salary</th>\n",
       "      <th>Base_pay</th>\n",
       "      <th>Bonus</th>\n",
       "      <th>Unit_Price</th>\n",
       "      <th>Volume</th>\n",
       "      <th>openingbalance</th>\n",
       "      <th>closingbalance</th>\n",
       "      <th>low</th>\n",
       "      <th>Unit_Sales</th>\n",
       "      <th>Total_Sales</th>\n",
       "      <th>Months</th>\n",
       "      <th>Education</th>\n",
       "    </tr>\n",
       "  </thead>\n",
       "  <tbody>\n",
       "    <tr>\n",
       "      <th>0</th>\n",
       "      <td>0</td>\n",
       "      <td>0</td>\n",
       "      <td>0</td>\n",
       "      <td>1</td>\n",
       "      <td>0</td>\n",
       "      <td>0</td>\n",
       "      <td>1</td>\n",
       "      <td>18</td>\n",
       "      <td>5089.00</td>\n",
       "      <td>2035.600</td>\n",
       "      <td>254.4500</td>\n",
       "      <td>3.770000</td>\n",
       "      <td>21226600</td>\n",
       "      <td>3.750000</td>\n",
       "      <td>3.760000</td>\n",
       "      <td>3.650000</td>\n",
       "      <td>18.25</td>\n",
       "      <td>18.80</td>\n",
       "      <td>0</td>\n",
       "      <td>1</td>\n",
       "    </tr>\n",
       "    <tr>\n",
       "      <th>1</th>\n",
       "      <td>0</td>\n",
       "      <td>0</td>\n",
       "      <td>0</td>\n",
       "      <td>1</td>\n",
       "      <td>0</td>\n",
       "      <td>0</td>\n",
       "      <td>1</td>\n",
       "      <td>19</td>\n",
       "      <td>5698.12</td>\n",
       "      <td>2279.248</td>\n",
       "      <td>284.9060</td>\n",
       "      <td>3.740000</td>\n",
       "      <td>10462800</td>\n",
       "      <td>3.850000</td>\n",
       "      <td>3.680000</td>\n",
       "      <td>3.650000</td>\n",
       "      <td>18.40</td>\n",
       "      <td>18.85</td>\n",
       "      <td>0</td>\n",
       "      <td>1</td>\n",
       "    </tr>\n",
       "    <tr>\n",
       "      <th>2</th>\n",
       "      <td>1</td>\n",
       "      <td>0</td>\n",
       "      <td>0</td>\n",
       "      <td>1</td>\n",
       "      <td>0</td>\n",
       "      <td>1</td>\n",
       "      <td>0</td>\n",
       "      <td>22</td>\n",
       "      <td>5896.65</td>\n",
       "      <td>2358.660</td>\n",
       "      <td>294.8325</td>\n",
       "      <td>3.890000</td>\n",
       "      <td>18761000</td>\n",
       "      <td>4.230000</td>\n",
       "      <td>4.290000</td>\n",
       "      <td>3.720000</td>\n",
       "      <td>18.70</td>\n",
       "      <td>18.90</td>\n",
       "      <td>0</td>\n",
       "      <td>1</td>\n",
       "    </tr>\n",
       "    <tr>\n",
       "      <th>3</th>\n",
       "      <td>0</td>\n",
       "      <td>1</td>\n",
       "      <td>0</td>\n",
       "      <td>1</td>\n",
       "      <td>0</td>\n",
       "      <td>1</td>\n",
       "      <td>1</td>\n",
       "      <td>21</td>\n",
       "      <td>6125.12</td>\n",
       "      <td>2450.048</td>\n",
       "      <td>306.2560</td>\n",
       "      <td>4.350000</td>\n",
       "      <td>66130600</td>\n",
       "      <td>4.260000</td>\n",
       "      <td>4.310000</td>\n",
       "      <td>3.830000</td>\n",
       "      <td>18.75</td>\n",
       "      <td>19.00</td>\n",
       "      <td>0</td>\n",
       "      <td>1</td>\n",
       "    </tr>\n",
       "    <tr>\n",
       "      <th>4</th>\n",
       "      <td>1</td>\n",
       "      <td>0</td>\n",
       "      <td>0</td>\n",
       "      <td>1</td>\n",
       "      <td>0</td>\n",
       "      <td>1</td>\n",
       "      <td>1</td>\n",
       "      <td>23</td>\n",
       "      <td>6245.00</td>\n",
       "      <td>2498.000</td>\n",
       "      <td>312.2500</td>\n",
       "      <td>4.340000</td>\n",
       "      <td>26868200</td>\n",
       "      <td>4.790000</td>\n",
       "      <td>4.410000</td>\n",
       "      <td>4.080000</td>\n",
       "      <td>18.80</td>\n",
       "      <td>19.05</td>\n",
       "      <td>1</td>\n",
       "      <td>1</td>\n",
       "    </tr>\n",
       "    <tr>\n",
       "      <th>...</th>\n",
       "      <td>...</td>\n",
       "      <td>...</td>\n",
       "      <td>...</td>\n",
       "      <td>...</td>\n",
       "      <td>...</td>\n",
       "      <td>...</td>\n",
       "      <td>...</td>\n",
       "      <td>...</td>\n",
       "      <td>...</td>\n",
       "      <td>...</td>\n",
       "      <td>...</td>\n",
       "      <td>...</td>\n",
       "      <td>...</td>\n",
       "      <td>...</td>\n",
       "      <td>...</td>\n",
       "      <td>...</td>\n",
       "      <td>...</td>\n",
       "      <td>...</td>\n",
       "      <td>...</td>\n",
       "      <td>...</td>\n",
       "    </tr>\n",
       "    <tr>\n",
       "      <th>4995</th>\n",
       "      <td>0</td>\n",
       "      <td>0</td>\n",
       "      <td>0</td>\n",
       "      <td>1</td>\n",
       "      <td>0</td>\n",
       "      <td>0</td>\n",
       "      <td>0</td>\n",
       "      <td>72</td>\n",
       "      <td>180696.80</td>\n",
       "      <td>72278.720</td>\n",
       "      <td>9034.8400</td>\n",
       "      <td>629.511067</td>\n",
       "      <td>3927000</td>\n",
       "      <td>33.119999</td>\n",
       "      <td>293.838840</td>\n",
       "      <td>310.955001</td>\n",
       "      <td>117.80</td>\n",
       "      <td>1395.65</td>\n",
       "      <td>72</td>\n",
       "      <td>3</td>\n",
       "    </tr>\n",
       "    <tr>\n",
       "      <th>4996</th>\n",
       "      <td>1</td>\n",
       "      <td>0</td>\n",
       "      <td>0</td>\n",
       "      <td>1</td>\n",
       "      <td>0</td>\n",
       "      <td>1</td>\n",
       "      <td>0</td>\n",
       "      <td>73</td>\n",
       "      <td>185685.90</td>\n",
       "      <td>74274.360</td>\n",
       "      <td>9284.2950</td>\n",
       "      <td>627.841071</td>\n",
       "      <td>6031900</td>\n",
       "      <td>33.119999</td>\n",
       "      <td>301.311314</td>\n",
       "      <td>309.610028</td>\n",
       "      <td>118.60</td>\n",
       "      <td>1395.65</td>\n",
       "      <td>72</td>\n",
       "      <td>3</td>\n",
       "    </tr>\n",
       "    <tr>\n",
       "      <th>4997</th>\n",
       "      <td>1</td>\n",
       "      <td>0</td>\n",
       "      <td>0</td>\n",
       "      <td>1</td>\n",
       "      <td>0</td>\n",
       "      <td>1</td>\n",
       "      <td>0</td>\n",
       "      <td>74</td>\n",
       "      <td>192636.80</td>\n",
       "      <td>77054.720</td>\n",
       "      <td>9631.8400</td>\n",
       "      <td>625.860033</td>\n",
       "      <td>7949400</td>\n",
       "      <td>33.119999</td>\n",
       "      <td>306.040009</td>\n",
       "      <td>303.483494</td>\n",
       "      <td>118.60</td>\n",
       "      <td>1395.65</td>\n",
       "      <td>72</td>\n",
       "      <td>3</td>\n",
       "    </tr>\n",
       "    <tr>\n",
       "      <th>4998</th>\n",
       "      <td>1</td>\n",
       "      <td>1</td>\n",
       "      <td>0</td>\n",
       "      <td>1</td>\n",
       "      <td>0</td>\n",
       "      <td>1</td>\n",
       "      <td>1</td>\n",
       "      <td>74</td>\n",
       "      <td>195970.70</td>\n",
       "      <td>78388.280</td>\n",
       "      <td>9798.5350</td>\n",
       "      <td>629.510005</td>\n",
       "      <td>3908400</td>\n",
       "      <td>33.119999</td>\n",
       "      <td>308.579987</td>\n",
       "      <td>312.432438</td>\n",
       "      <td>118.65</td>\n",
       "      <td>1395.65</td>\n",
       "      <td>72</td>\n",
       "      <td>3</td>\n",
       "    </tr>\n",
       "    <tr>\n",
       "      <th>4999</th>\n",
       "      <td>1</td>\n",
       "      <td>0</td>\n",
       "      <td>1</td>\n",
       "      <td>1</td>\n",
       "      <td>2</td>\n",
       "      <td>1</td>\n",
       "      <td>0</td>\n",
       "      <td>88</td>\n",
       "      <td>199970.74</td>\n",
       "      <td>79988.296</td>\n",
       "      <td>9998.5370</td>\n",
       "      <td>627.839984</td>\n",
       "      <td>6003300</td>\n",
       "      <td>33.119999</td>\n",
       "      <td>312.307316</td>\n",
       "      <td>311.081089</td>\n",
       "      <td>118.75</td>\n",
       "      <td>1395.65</td>\n",
       "      <td>72</td>\n",
       "      <td>3</td>\n",
       "    </tr>\n",
       "  </tbody>\n",
       "</table>\n",
       "<p>5000 rows × 20 columns</p>\n",
       "</div>"
      ],
      "text/plain": [
       "      Gender  Business  Dependancies  Calls  Type  Billing  Rating  Age  \\\n",
       "0          0         0             0      1     0        0       1   18   \n",
       "1          0         0             0      1     0        0       1   19   \n",
       "2          1         0             0      1     0        1       0   22   \n",
       "3          0         1             0      1     0        1       1   21   \n",
       "4          1         0             0      1     0        1       1   23   \n",
       "...      ...       ...           ...    ...   ...      ...     ...  ...   \n",
       "4995       0         0             0      1     0        0       0   72   \n",
       "4996       1         0             0      1     0        1       0   73   \n",
       "4997       1         0             0      1     0        1       0   74   \n",
       "4998       1         1             0      1     0        1       1   74   \n",
       "4999       1         0             1      1     2        1       0   88   \n",
       "\n",
       "         Salary   Base_pay      Bonus  Unit_Price    Volume  openingbalance  \\\n",
       "0       5089.00   2035.600   254.4500    3.770000  21226600        3.750000   \n",
       "1       5698.12   2279.248   284.9060    3.740000  10462800        3.850000   \n",
       "2       5896.65   2358.660   294.8325    3.890000  18761000        4.230000   \n",
       "3       6125.12   2450.048   306.2560    4.350000  66130600        4.260000   \n",
       "4       6245.00   2498.000   312.2500    4.340000  26868200        4.790000   \n",
       "...         ...        ...        ...         ...       ...             ...   \n",
       "4995  180696.80  72278.720  9034.8400  629.511067   3927000       33.119999   \n",
       "4996  185685.90  74274.360  9284.2950  627.841071   6031900       33.119999   \n",
       "4997  192636.80  77054.720  9631.8400  625.860033   7949400       33.119999   \n",
       "4998  195970.70  78388.280  9798.5350  629.510005   3908400       33.119999   \n",
       "4999  199970.74  79988.296  9998.5370  627.839984   6003300       33.119999   \n",
       "\n",
       "      closingbalance         low  Unit_Sales  Total_Sales  Months  Education  \n",
       "0           3.760000    3.650000       18.25        18.80       0          1  \n",
       "1           3.680000    3.650000       18.40        18.85       0          1  \n",
       "2           4.290000    3.720000       18.70        18.90       0          1  \n",
       "3           4.310000    3.830000       18.75        19.00       0          1  \n",
       "4           4.410000    4.080000       18.80        19.05       1          1  \n",
       "...              ...         ...         ...          ...     ...        ...  \n",
       "4995      293.838840  310.955001      117.80      1395.65      72          3  \n",
       "4996      301.311314  309.610028      118.60      1395.65      72          3  \n",
       "4997      306.040009  303.483494      118.60      1395.65      72          3  \n",
       "4998      308.579987  312.432438      118.65      1395.65      72          3  \n",
       "4999      312.307316  311.081089      118.75      1395.65      72          3  \n",
       "\n",
       "[5000 rows x 20 columns]"
      ]
     },
     "execution_count": 431,
     "metadata": {},
     "output_type": "execute_result"
    }
   ],
   "source": [
    "df"
   ]
  },
  {
   "cell_type": "markdown",
   "id": "26fc865b",
   "metadata": {},
   "source": [
    "Now the data is clean and all the columns are in numerical form."
   ]
  },
  {
   "cell_type": "markdown",
   "id": "3c22fc27",
   "metadata": {},
   "source": [
    " \n"
   ]
  },
  {
   "cell_type": "markdown",
   "id": "2bb8b3b3",
   "metadata": {},
   "source": [
    "# Applying the ML algorithm"
   ]
  },
  {
   "cell_type": "markdown",
   "id": "74e37f73",
   "metadata": {},
   "source": [
    "We need to use the supervised machine learning as we already have the Target Feature.\n",
    "\n",
    "Here we need to predict the salary, so we generally use regression for predicting the Quantity.\n",
    "\n",
    "Using the linear regression may not give the good result because of outliers and multicollinearity.\n",
    "linear regression is very sensitive to outliers and cannot have multicollinearity.\n",
    "\n",
    "Using lasso and Ridge regression also may not give the good result. because this may help in multicollinearity but outliers may impact on them.\n",
    "\n",
    "So it's better to use the random forest algorithm to fit our model.\n",
    "\n",
    "Random forest doesn't have any impact on multicollinearity and outliers.....it may not lead to overfitting.\n",
    "\n",
    "\n",
    "Since the random forest combines multiple trees to predict the output of the dataset, it is possible that some decision trees may predict the correct output, while others may not. But together, all the trees predict the correct output.\n"
   ]
  },
  {
   "cell_type": "code",
   "execution_count": 432,
   "id": "86abbd26",
   "metadata": {},
   "outputs": [
    {
     "data": {
      "text/plain": [
       "Index(['Gender', 'Business', 'Dependancies', 'Calls', 'Type', 'Billing',\n",
       "       'Rating', 'Age', 'Salary', 'Base_pay', 'Bonus', 'Unit_Price', 'Volume',\n",
       "       'openingbalance', 'closingbalance', 'low', 'Unit_Sales', 'Total_Sales',\n",
       "       'Months', 'Education'],\n",
       "      dtype='object')"
      ]
     },
     "execution_count": 432,
     "metadata": {},
     "output_type": "execute_result"
    }
   ],
   "source": [
    "df.columns"
   ]
  },
  {
   "cell_type": "markdown",
   "id": "5477bd2d",
   "metadata": {},
   "source": [
    "Now we can remove the unnecessary columns for prediction.....\n",
    "\n",
    "here we are not taking the business column because if we look at the business column description, the persons who already has business they may not work in any company as employee.\n",
    "\n",
    "Dependants column is also not necesary because recruiters will not be interested in knowing number of people dependent on the person or not.\n",
    "\n",
    "calls, rating, volume are also not necessary for salary prediction."
   ]
  },
  {
   "cell_type": "code",
   "execution_count": 433,
   "id": "83a074e7",
   "metadata": {},
   "outputs": [],
   "source": [
    "## Giving my x and y values\n",
    "\n",
    "x = df[['Gender', 'Type', 'Billing', 'Age', 'Base_pay', 'Bonus', 'Unit_Price',\n",
    "       'openingbalance', 'closingbalance', 'low', 'Unit_Sales', 'Total_Sales',\n",
    "       'Months', 'Education']].values\n",
    "y = df[['Salary']].values"
   ]
  },
  {
   "cell_type": "code",
   "execution_count": 434,
   "id": "71cbb443",
   "metadata": {},
   "outputs": [],
   "source": [
    "## impoting the train_test_split from sklearn\n",
    "\n",
    "from sklearn.model_selection import train_test_split"
   ]
  },
  {
   "cell_type": "code",
   "execution_count": 435,
   "id": "72d48a77",
   "metadata": {},
   "outputs": [],
   "source": [
    "## splitting train, test of x and y.\n",
    "## giving the train size o.7\n",
    "\n",
    "x_train, x_test, y_train, y_test = train_test_split(x,y,train_size = 0.7, random_state = 3)"
   ]
  },
  {
   "cell_type": "code",
   "execution_count": 436,
   "id": "db447b08",
   "metadata": {},
   "outputs": [],
   "source": [
    "## importing the random forest regressor from sklearn\n",
    "\n",
    "from sklearn.ensemble import RandomForestRegressor"
   ]
  },
  {
   "cell_type": "code",
   "execution_count": 437,
   "id": "bdbc3447",
   "metadata": {},
   "outputs": [],
   "source": [
    "regressor = RandomForestRegressor()"
   ]
  },
  {
   "cell_type": "code",
   "execution_count": 438,
   "id": "e14fdeba",
   "metadata": {},
   "outputs": [
    {
     "data": {
      "text/plain": [
       "RandomForestRegressor()"
      ]
     },
     "execution_count": 438,
     "metadata": {},
     "output_type": "execute_result"
    }
   ],
   "source": [
    "## fitting the x and y train in regressor\n",
    "\n",
    "regressor.fit(x_train, y_train)"
   ]
  },
  {
   "cell_type": "code",
   "execution_count": 439,
   "id": "9c1a8916",
   "metadata": {},
   "outputs": [],
   "source": [
    "## giving the y_pred for x_train\n",
    "\n",
    "y_pred = regressor.predict(x_train)"
   ]
  },
  {
   "cell_type": "code",
   "execution_count": 440,
   "id": "56dffb12",
   "metadata": {
    "scrolled": false
   },
   "outputs": [],
   "source": [
    "## importing the r2_score from sklearn\n",
    "\n",
    "from sklearn.metrics import r2_score"
   ]
  },
  {
   "cell_type": "code",
   "execution_count": 441,
   "id": "bf23eba2",
   "metadata": {},
   "outputs": [],
   "source": [
    "## giving the Y_predict for x_test\n",
    "\n",
    "Y_predict = regressor.predict(x_test)"
   ]
  },
  {
   "cell_type": "code",
   "execution_count": 442,
   "id": "d977d5f0",
   "metadata": {},
   "outputs": [],
   "source": [
    "from sklearn.metrics import mean_squared_error, mean_absolute_error"
   ]
  },
  {
   "cell_type": "code",
   "execution_count": 445,
   "id": "317bee57",
   "metadata": {},
   "outputs": [],
   "source": [
    "## giving the y_train and y_pred for r2_score\n",
    "\n",
    "error_score = r2_score(y_train,y_pred)"
   ]
  },
  {
   "cell_type": "code",
   "execution_count": 446,
   "id": "3be2f4bd",
   "metadata": {},
   "outputs": [
    {
     "name": "stdout",
     "output_type": "stream",
     "text": [
      "R Squared Error : 0.9999823459558085\n"
     ]
    }
   ],
   "source": [
    "print('R Squared Error :', error_score)"
   ]
  },
  {
   "cell_type": "markdown",
   "id": "2c472ca3",
   "metadata": {},
   "source": [
    "After cleaning and removing the unnecessary columns we got the accuracy 0.9999.....\n",
    "\n"
   ]
  },
  {
   "cell_type": "code",
   "execution_count": 460,
   "id": "6ac867fe",
   "metadata": {},
   "outputs": [
    {
     "data": {
      "text/plain": [
       "135.13369763914443"
      ]
     },
     "execution_count": 460,
     "metadata": {},
     "output_type": "execute_result"
    }
   ],
   "source": [
    "## checking the RMSE value\n",
    "\n",
    "from math import sqrt\n",
    "rmse = np.sqrt(mean_squared_error(y_test, Y_predict))\n",
    "rmse"
   ]
  },
  {
   "cell_type": "code",
   "execution_count": 448,
   "id": "3d897ee9",
   "metadata": {},
   "outputs": [
    {
     "data": {
      "image/png": "[encoded data removed]",
      "text/plain": [
       "<Figure size 432x288 with 1 Axes>"
      ]
     },
     "metadata": {
      "needs_background": "light"
     },
     "output_type": "display_data"
    }
   ],
   "source": [
    "## checking the best line for train data\n",
    "\n",
    "plt.scatter(y_train, y_pred, marker = '*')\n",
    "plt.xlabel('Actual Price')\n",
    "plt.ylabel('Predicted Price')\n",
    "plt.title('Actual Price vs Predicted Price')\n",
    "plt.show()"
   ]
  },
  {
   "cell_type": "markdown",
   "id": "4a6ca414",
   "metadata": {},
   "source": [
    "# Checking for the test data"
   ]
  },
  {
   "cell_type": "code",
   "execution_count": 449,
   "id": "42f30282",
   "metadata": {},
   "outputs": [],
   "source": [
    "x_pred = regressor.predict(x_test)"
   ]
  },
  {
   "cell_type": "code",
   "execution_count": 450,
   "id": "46c08b35",
   "metadata": {},
   "outputs": [],
   "source": [
    "error_score = r2_score(y_test,x_pred)"
   ]
  },
  {
   "cell_type": "code",
   "execution_count": 451,
   "id": "0cdf57d9",
   "metadata": {},
   "outputs": [
    {
     "name": "stdout",
     "output_type": "stream",
     "text": [
      "R Squared Error: 0.9999714091187214\n"
     ]
    }
   ],
   "source": [
    "print('R Squared Error:', error_score)"
   ]
  },
  {
   "cell_type": "code",
   "execution_count": 452,
   "id": "db714f49",
   "metadata": {},
   "outputs": [
    {
     "data": {
      "image/png": "[encoded data removed]",
      "text/plain": [
       "<Figure size 432x288 with 1 Axes>"
      ]
     },
     "metadata": {
      "needs_background": "light"
     },
     "output_type": "display_data"
    }
   ],
   "source": [
    "plt.scatter(y_test, x_pred,marker = '*')\n",
    "plt.xlabel('Actual Price')\n",
    "plt.ylabel('Predicted Price')\n",
    "plt.title('Actual Price vs Predicted Price')\n",
    "plt.show()"
   ]
  },
  {
   "cell_type": "markdown",
   "id": "0dc77226",
   "metadata": {},
   "source": [
    "We didn't see much difference between the train and test data"
   ]
  },
  {
   "cell_type": "code",
   "execution_count": 459,
   "id": "e8298e29",
   "metadata": {},
   "outputs": [
    {
     "data": {
      "text/plain": [
       "18261.116237627706"
      ]
     },
     "execution_count": 459,
     "metadata": {},
     "output_type": "execute_result"
    }
   ],
   "source": [
    "## checking the mean squared error\n",
    "\n",
    "mean_squared_error(y_test, Y_predict)"
   ]
  },
  {
   "cell_type": "code",
   "execution_count": 455,
   "id": "1d60b53c",
   "metadata": {},
   "outputs": [
    {
     "data": {
      "text/plain": [
       "29.440623902446948"
      ]
     },
     "execution_count": 455,
     "metadata": {},
     "output_type": "execute_result"
    }
   ],
   "source": [
    "## checking the mean absolute error\n",
    "\n",
    "mean_absolute_error(y_test, Y_predict)"
   ]
  },
  {
   "cell_type": "markdown",
   "id": "a6d4c0db",
   "metadata": {},
   "source": [
    "Using the smf from stats models to see the individual column to check the p value and coefficients"
   ]
  },
  {
   "cell_type": "code",
   "execution_count": 461,
   "id": "c3032e91",
   "metadata": {},
   "outputs": [
    {
     "data": {
      "text/html": [
       "<table class=\"simpletable\">\n",
       "<caption>OLS Regression Results</caption>\n",
       "<tr>\n",
       "  <th>Dep. Variable:</th>         <td>Salary</td>      <th>  R-squared:         </th>  <td>   1.000</td> \n",
       "</tr>\n",
       "<tr>\n",
       "  <th>Model:</th>                   <td>OLS</td>       <th>  Adj. R-squared:    </th>  <td>   1.000</td> \n",
       "</tr>\n",
       "<tr>\n",
       "  <th>Method:</th>             <td>Least Squares</td>  <th>  F-statistic:       </th>  <td>1.776e+22</td>\n",
       "</tr>\n",
       "<tr>\n",
       "  <th>Date:</th>             <td>Wed, 01 Dec 2021</td> <th>  Prob (F-statistic):</th>   <td>  0.00</td>  \n",
       "</tr>\n",
       "<tr>\n",
       "  <th>Time:</th>                 <td>12:31:21</td>     <th>  Log-Likelihood:    </th>  <td>  55588.</td> \n",
       "</tr>\n",
       "<tr>\n",
       "  <th>No. Observations:</th>      <td>  5000</td>      <th>  AIC:               </th> <td>-1.111e+05</td>\n",
       "</tr>\n",
       "<tr>\n",
       "  <th>Df Residuals:</th>          <td>  4985</td>      <th>  BIC:               </th> <td>-1.110e+05</td>\n",
       "</tr>\n",
       "<tr>\n",
       "  <th>Df Model:</th>              <td>    14</td>      <th>                     </th>      <td> </td>    \n",
       "</tr>\n",
       "<tr>\n",
       "  <th>Covariance Type:</th>      <td>nonrobust</td>    <th>                     </th>      <td> </td>    \n",
       "</tr>\n",
       "</table>\n",
       "<table class=\"simpletable\">\n",
       "<tr>\n",
       "         <td></td>           <th>coef</th>     <th>std err</th>      <th>t</th>      <th>P>|t|</th>  <th>[0.025</th>    <th>0.975]</th>  \n",
       "</tr>\n",
       "<tr>\n",
       "  <th>Intercept</th>      <td>-1.608e-06</td> <td>  4.5e-07</td> <td>   -3.571</td> <td> 0.000</td> <td>-2.49e-06</td> <td>-7.25e-07</td>\n",
       "</tr>\n",
       "<tr>\n",
       "  <th>Gender</th>         <td>-1.654e-07</td> <td> 1.02e-07</td> <td>   -1.622</td> <td> 0.105</td> <td>-3.65e-07</td> <td> 3.45e-08</td>\n",
       "</tr>\n",
       "<tr>\n",
       "  <th>Type</th>           <td>-1.015e-07</td> <td> 6.21e-08</td> <td>   -1.635</td> <td> 0.102</td> <td>-2.23e-07</td> <td> 2.02e-08</td>\n",
       "</tr>\n",
       "<tr>\n",
       "  <th>Billing</th>        <td>-1.685e-07</td> <td> 1.05e-07</td> <td>   -1.600</td> <td> 0.110</td> <td>-3.75e-07</td> <td> 3.79e-08</td>\n",
       "</tr>\n",
       "<tr>\n",
       "  <th>Age</th>            <td> 1.831e-08</td> <td>  6.7e-09</td> <td>    2.733</td> <td> 0.006</td> <td> 5.18e-09</td> <td> 3.14e-08</td>\n",
       "</tr>\n",
       "<tr>\n",
       "  <th>Base_pay</th>       <td>-5.533e-11</td> <td>  3.7e-11</td> <td>   -1.497</td> <td> 0.135</td> <td>-1.28e-10</td> <td> 1.71e-11</td>\n",
       "</tr>\n",
       "<tr>\n",
       "  <th>Bonus</th>          <td>   20.0000</td> <td> 3.25e-10</td> <td> 6.15e+10</td> <td> 0.000</td> <td>   20.000</td> <td>   20.000</td>\n",
       "</tr>\n",
       "<tr>\n",
       "  <th>Unit_Price</th>     <td>-7.285e-10</td> <td> 1.92e-09</td> <td>   -0.379</td> <td> 0.705</td> <td> -4.5e-09</td> <td> 3.04e-09</td>\n",
       "</tr>\n",
       "<tr>\n",
       "  <th>openingbalance</th> <td>-7.852e-09</td> <td> 1.71e-09</td> <td>   -4.584</td> <td> 0.000</td> <td>-1.12e-08</td> <td>-4.49e-09</td>\n",
       "</tr>\n",
       "<tr>\n",
       "  <th>closingbalance</th> <td> 1.031e-08</td> <td>  1.7e-09</td> <td>    6.056</td> <td> 0.000</td> <td> 6.97e-09</td> <td> 1.37e-08</td>\n",
       "</tr>\n",
       "<tr>\n",
       "  <th>low</th>            <td>-1.752e-09</td> <td> 4.69e-09</td> <td>   -0.374</td> <td> 0.709</td> <td>-1.09e-08</td> <td> 7.44e-09</td>\n",
       "</tr>\n",
       "<tr>\n",
       "  <th>Unit_Sales</th>     <td> 1.605e-07</td> <td> 7.53e-09</td> <td>   21.308</td> <td> 0.000</td> <td> 1.46e-07</td> <td> 1.75e-07</td>\n",
       "</tr>\n",
       "<tr>\n",
       "  <th>Total_Sales</th>    <td>-1.123e-10</td> <td> 9.15e-11</td> <td>   -1.227</td> <td> 0.220</td> <td>-2.92e-10</td> <td> 6.71e-11</td>\n",
       "</tr>\n",
       "<tr>\n",
       "  <th>Months</th>         <td> 3.331e-08</td> <td> 3.88e-09</td> <td>    8.586</td> <td> 0.000</td> <td> 2.57e-08</td> <td> 4.09e-08</td>\n",
       "</tr>\n",
       "<tr>\n",
       "  <th>Education</th>      <td>-9.118e-08</td> <td> 3.75e-08</td> <td>   -2.434</td> <td> 0.015</td> <td>-1.65e-07</td> <td>-1.78e-08</td>\n",
       "</tr>\n",
       "</table>\n",
       "<table class=\"simpletable\">\n",
       "<tr>\n",
       "  <th>Omnibus:</th>       <td>225.481</td> <th>  Durbin-Watson:     </th> <td>   1.889</td>\n",
       "</tr>\n",
       "<tr>\n",
       "  <th>Prob(Omnibus):</th> <td> 0.000</td>  <th>  Jarque-Bera (JB):  </th> <td> 168.270</td>\n",
       "</tr>\n",
       "<tr>\n",
       "  <th>Skew:</th>          <td>-0.354</td>  <th>  Prob(JB):          </th> <td>2.89e-37</td>\n",
       "</tr>\n",
       "<tr>\n",
       "  <th>Kurtosis:</th>      <td> 2.446</td>  <th>  Cond. No.          </th> <td>3.69e+05</td>\n",
       "</tr>\n",
       "</table><br/><br/>Notes:<br/>[1] Standard Errors assume that the covariance matrix of the errors is correctly specified.<br/>[2] The condition number is large, 3.69e+05. This might indicate that there are<br/>strong multicollinearity or other numerical problems."
      ],
      "text/plain": [
       "<class 'statsmodels.iolib.summary.Summary'>\n",
       "\"\"\"\n",
       "                            OLS Regression Results                            \n",
       "==============================================================================\n",
       "Dep. Variable:                 Salary   R-squared:                       1.000\n",
       "Model:                            OLS   Adj. R-squared:                  1.000\n",
       "Method:                 Least Squares   F-statistic:                 1.776e+22\n",
       "Date:                Wed, 01 Dec 2021   Prob (F-statistic):               0.00\n",
       "Time:                        12:31:21   Log-Likelihood:                 55588.\n",
       "No. Observations:                5000   AIC:                        -1.111e+05\n",
       "Df Residuals:                    4985   BIC:                        -1.110e+05\n",
       "Df Model:                          14                                         \n",
       "Covariance Type:            nonrobust                                         \n",
       "==================================================================================\n",
       "                     coef    std err          t      P>|t|      [0.025      0.975]\n",
       "----------------------------------------------------------------------------------\n",
       "Intercept      -1.608e-06    4.5e-07     -3.571      0.000   -2.49e-06   -7.25e-07\n",
       "Gender         -1.654e-07   1.02e-07     -1.622      0.105   -3.65e-07    3.45e-08\n",
       "Type           -1.015e-07   6.21e-08     -1.635      0.102   -2.23e-07    2.02e-08\n",
       "Billing        -1.685e-07   1.05e-07     -1.600      0.110   -3.75e-07    3.79e-08\n",
       "Age             1.831e-08    6.7e-09      2.733      0.006    5.18e-09    3.14e-08\n",
       "Base_pay       -5.533e-11    3.7e-11     -1.497      0.135   -1.28e-10    1.71e-11\n",
       "Bonus             20.0000   3.25e-10   6.15e+10      0.000      20.000      20.000\n",
       "Unit_Price     -7.285e-10   1.92e-09     -0.379      0.705    -4.5e-09    3.04e-09\n",
       "openingbalance -7.852e-09   1.71e-09     -4.584      0.000   -1.12e-08   -4.49e-09\n",
       "closingbalance  1.031e-08    1.7e-09      6.056      0.000    6.97e-09    1.37e-08\n",
       "low            -1.752e-09   4.69e-09     -0.374      0.709   -1.09e-08    7.44e-09\n",
       "Unit_Sales      1.605e-07   7.53e-09     21.308      0.000    1.46e-07    1.75e-07\n",
       "Total_Sales    -1.123e-10   9.15e-11     -1.227      0.220   -2.92e-10    6.71e-11\n",
       "Months          3.331e-08   3.88e-09      8.586      0.000    2.57e-08    4.09e-08\n",
       "Education      -9.118e-08   3.75e-08     -2.434      0.015   -1.65e-07   -1.78e-08\n",
       "==============================================================================\n",
       "Omnibus:                      225.481   Durbin-Watson:                   1.889\n",
       "Prob(Omnibus):                  0.000   Jarque-Bera (JB):              168.270\n",
       "Skew:                          -0.354   Prob(JB):                     2.89e-37\n",
       "Kurtosis:                       2.446   Cond. No.                     3.69e+05\n",
       "==============================================================================\n",
       "\n",
       "Notes:\n",
       "[1] Standard Errors assume that the covariance matrix of the errors is correctly specified.\n",
       "[2] The condition number is large, 3.69e+05. This might indicate that there are\n",
       "strong multicollinearity or other numerical problems.\n",
       "\"\"\""
      ]
     },
     "execution_count": 461,
     "metadata": {},
     "output_type": "execute_result"
    }
   ],
   "source": [
    "## smf can be used for feature selection also\n",
    "## importing the smf from statsmodels\n",
    "\n",
    "import statsmodels.formula.api as smf\n",
    "\n",
    "lr = smf.ols(formula = 'Salary~Gender + Type + Billing +  Age + Base_pay + Bonus + Unit_Price + openingbalance + closingbalance + low + Unit_Sales + Total_Sales  +Months + Education',data =df ).fit()\n",
    "lr.conf_int()\n",
    "lr.summary()"
   ]
  },
  {
   "cell_type": "markdown",
   "id": "884fde72",
   "metadata": {},
   "source": [
    "We can see the p values of each column with respect to dependent column.\n",
    "\n",
    "many columns are not significat as p value is greater than 0.05"
   ]
  },
  {
   "cell_type": "markdown",
   "id": "fa639ace",
   "metadata": {},
   "source": [
    "# Conclusion"
   ]
  },
  {
   "cell_type": "markdown",
   "id": "b7b636d9",
   "metadata": {},
   "source": [
    "* The data set has strong multicollinearity with respect to target feature.\n",
    "\n",
    "* Despite using the random forest algorithm it still shows nearly 1.0 accuracy.\n",
    "\n",
    "* The data has a high R-squared but hardly any statistically significant variables.\n",
    "\n",
    "* maybe not doing anything about the multicollinearity might be the best solution."
   ]
  },
  {
   "cell_type": "code",
   "execution_count": null,
   "id": "8cac84ac",
   "metadata": {},
   "outputs": [],
   "source": []
  },
  {
   "cell_type": "code",
   "execution_count": null,
   "id": "4661bcff",
   "metadata": {},
   "outputs": [],
   "source": []
  },
  {
   "cell_type": "code",
   "execution_count": null,
   "id": "e3ebba1c",
   "metadata": {},
   "outputs": [],
   "source": []
  },
  {
   "cell_type": "code",
   "execution_count": null,
   "id": "29ef6539",
   "metadata": {},
   "outputs": [],
   "source": []
  },
  {
   "cell_type": "code",
   "execution_count": null,
   "id": "53169e53",
   "metadata": {},
   "outputs": [],
   "source": []
  },
  {
   "cell_type": "code",
   "execution_count": null,
   "id": "57634454",
   "metadata": {},
   "outputs": [],
   "source": []
  }
 ],
 "metadata": {
  "kernelspec": {
   "display_name": "Python 3",
   "language": "python",
   "name": "python3"
  },
  "language_info": {
   "codemirror_mode": {
    "name": "ipython",
    "version": 3
   },
   "file_extension": ".py",
   "mimetype": "text/x-python",
   "name": "python",
   "nbconvert_exporter": "python",
   "pygments_lexer": "ipython3",
   "version": "3.8.8"
  }
 },
 "nbformat": 4,
 "nbformat_minor": 5
}
